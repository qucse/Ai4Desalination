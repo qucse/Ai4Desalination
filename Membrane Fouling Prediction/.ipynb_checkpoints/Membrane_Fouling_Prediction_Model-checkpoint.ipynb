{
 "cells": [
  {
   "cell_type": "markdown",
   "metadata": {
    "id": "MmdirF1fbfJi"
   },
   "source": [
    "# Import & Read \n"
   ]
  },
  {
   "cell_type": "code",
   "execution_count": 1,
   "metadata": {
    "id": "-BUX9ORHGwum"
   },
   "outputs": [],
   "source": [
    "import numpy as np\n",
    "import tensorflow as tf\n",
    "import random as rn\n",
    "np.random.seed(42)\n",
    "rn.seed(42)\n",
    "tf.random.set_seed(42)"
   ]
  },
  {
   "cell_type": "code",
   "execution_count": 3,
   "metadata": {
    "id": "UCFWiJtDg6RQ"
   },
   "outputs": [],
   "source": [
    "import datetime\n",
    "import matplotlib.pyplot as plt\n",
    "import pandas as pd\n",
    "import seaborn as sns\n",
    "import sklearn\n",
    "from sklearn.preprocessing import MinMaxScaler, StandardScaler\n",
    "from sklearn.model_selection import train_test_split\n",
    "import tsfel as fe\n",
    "import os"
   ]
  },
  {
   "cell_type": "code",
   "execution_count": 4,
   "metadata": {
    "id": "JLTe41G3hD3b"
   },
   "outputs": [],
   "source": [
    "# path = 'C:/Users/Sohaila/OneDrive - Qatar University/Desalination Project/data/data in UF-RO system/'\n",
    "path = 'Data/'\n",
    "data_FE = pd.read_csv(path+'/features_dataset.csv',index_col=0)\n",
    "data_TS = pd.read_csv(path+'/timeseries_dataset.csv',index_col=0)"
   ]
  },
  {
   "cell_type": "markdown",
   "metadata": {
    "id": "IopDk_ApLeW6"
   },
   "source": [
    "### Backwash duration"
   ]
  },
  {
   "cell_type": "code",
   "execution_count": 5,
   "metadata": {
    "id": "_A0voMjaLdxI"
   },
   "outputs": [],
   "source": [
    "consecutives = data_TS['cycle'].diff().ne(0).cumsum()\n",
    "all_cycles = []\n",
    "bw_dur = []\n",
    "for group in data_TS.groupby(consecutives):\n",
    "    all_cycles.append(group[1])\n",
    "    bw_dur.append(group[1]['FE/FT-104'].gt(1).sum())"
   ]
  },
  {
   "cell_type": "code",
   "execution_count": 6,
   "metadata": {
    "id": "CbBYPw6DMZWO"
   },
   "outputs": [],
   "source": [
    "data_FE['bw_dur'] = bw_dur"
   ]
  },
  {
   "cell_type": "markdown",
   "metadata": {
    "id": "Snz6NIQpbak7"
   },
   "source": [
    "# Data Pre-processing"
   ]
  },
  {
   "cell_type": "code",
   "execution_count": 7,
   "metadata": {
    "id": "tWcdwDzQ3_1t"
   },
   "outputs": [],
   "source": [
    "# standardize dataset\n",
    "def standardize_dataset(data, mean, std):\n",
    "  std_data = []\n",
    "  for i in range(len(data)):\n",
    "      t = (data[i]-mean)/std\n",
    "      std_data.append(t)\n",
    "  return std_data\n",
    "def inverse_standardize(data, mean, std):\n",
    "  std_data = []\n",
    "  for i in range(len(data)):\n",
    "      t = (data[i]*std)+mean\n",
    "      std_data.append(t)\n",
    "  return std_data"
   ]
  },
  {
   "cell_type": "code",
   "execution_count": 8,
   "metadata": {
    "id": "Wk8whxTMU5lr"
   },
   "outputs": [],
   "source": [
    "data_FE_train = data_FE.iloc[0:7390]\n",
    "TMP_norm_labels = list((np.array(range(0,72))).astype(str))\n",
    "all_TMP_norm = np.concatenate(data_FE_train[TMP_norm_labels].values)\n",
    "all_TMP_norm = all_TMP_norm[~np.isnan(all_TMP_norm)]\n",
    "mean_y = np.mean(all_TMP_norm)\n",
    "std_y = np.std(all_TMP_norm)"
   ]
  },
  {
   "cell_type": "markdown",
   "metadata": {
    "id": "kb0ckiLpgObo"
   },
   "source": [
    "## TMP Decrease Model"
   ]
  },
  {
   "cell_type": "code",
   "execution_count": 9,
   "metadata": {},
   "outputs": [],
   "source": [
    "cf = ['FE/FT-101', 'FE/FT-102', 'FE/FT-103','PT-101','Time', 'active_membranes', 'month','no_cycles','bw_dur']\n",
    "df = ['input_tmp_balance', 'output_tmp_balance','auc_balance']\n",
    "tsf = ['0_Spectral entropy','0_Wavelet energy_0', '0_Wavelet standard deviation_0', \n",
    "       '0_Mean','0_Median', '0_Area under the curve','0_Mean diff', \n",
    "       '0_Negative turning points','0_Skewness','0_ECDF Percentile_0',\n",
    "       '0_Root mean square','0_Autocorrelation']\n",
    "\n",
    "l_cf = np.array(range(0,len(cf)))\n",
    "l_df = np.array(range(len(cf),len(cf)+len(df)))\n",
    "l_tsf = np.array(range(len(cf)+len(df),len(cf)+len(df)+len(tsf)))"
   ]
  },
  {
   "cell_type": "code",
   "execution_count": 10,
   "metadata": {},
   "outputs": [],
   "source": [
    "# for i in tsf:\n",
    "#   plt.figure()\n",
    "#   c = data_FE[i]\n",
    "#   plt.plot(c)\n",
    "#   plt.title('%s %.4f'%(i,np.var(c)))"
   ]
  },
  {
   "cell_type": "code",
   "execution_count": 11,
   "metadata": {
    "id": "-bViBP8VRsbx"
   },
   "outputs": [],
   "source": [
    "y_labels = list((np.array(range(0,72,1))).astype(str))"
   ]
  },
  {
   "cell_type": "code",
   "execution_count": 12,
   "metadata": {
    "id": "aleZSp-wRifB"
   },
   "outputs": [],
   "source": [
    "last_tmp = [data_FE.iloc[i][y_labels].dropna().values[-1] for i in range(len(data_FE))]\n",
    "flt_dur = [len(data_FE.iloc[i][y_labels].dropna().values) for i in range(len(data_FE))]"
   ]
  },
  {
   "cell_type": "code",
   "execution_count": 13,
   "metadata": {
    "colab": {
     "base_uri": "https://localhost:8080/"
    },
    "id": "g-EwJNMIQ4su",
    "outputId": "30510c93-692f-458c-899c-0c6c22388d93"
   },
   "outputs": [
    {
     "name": "stderr",
     "output_type": "stream",
     "text": [
      "<ipython-input-13-2b1a77c0a390>:3: SettingWithCopyWarning: \n",
      "A value is trying to be set on a copy of a slice from a DataFrame.\n",
      "Try using .loc[row_indexer,col_indexer] = value instead\n",
      "\n",
      "See the caveats in the documentation: https://pandas.pydata.org/pandas-docs/stable/user_guide/indexing.html#returning-a-view-versus-a-copy\n",
      "  x_train1['flt_dur'] = flt_dur\n",
      "<ipython-input-13-2b1a77c0a390>:4: SettingWithCopyWarning: \n",
      "A value is trying to be set on a copy of a slice from a DataFrame.\n",
      "Try using .loc[row_indexer,col_indexer] = value instead\n",
      "\n",
      "See the caveats in the documentation: https://pandas.pydata.org/pandas-docs/stable/user_guide/indexing.html#returning-a-view-versus-a-copy\n",
      "  x_train1['last_TMP'] = last_tmp\n"
     ]
    }
   ],
   "source": [
    "label = ['0']\n",
    "x_train1 = data_FE[cf + df + tsf]\n",
    "x_train1['flt_dur'] = flt_dur\n",
    "x_train1['last_TMP'] = last_tmp\n",
    "\n",
    "y_train1 = data_FE[label]"
   ]
  },
  {
   "cell_type": "code",
   "execution_count": 14,
   "metadata": {
    "id": "rDtLKKX5RGCw"
   },
   "outputs": [],
   "source": [
    "x_train1 = x_train1.iloc[0:-1]\n",
    "y_train1 = y_train1.iloc[1:]"
   ]
  },
  {
   "cell_type": "code",
   "execution_count": 15,
   "metadata": {
    "id": "cP-2WrjrhcB1"
   },
   "outputs": [],
   "source": [
    "#splitting\n",
    "X_train_TMP0 = x_train1.iloc[0:7390]\n",
    "X_test_TMP0 = x_train1.iloc[7390:8824]\n",
    "Y_train_TMP0 = y_train1.iloc[0:7390]\n",
    "Y_test_TMP0 = y_train1.iloc[7390:8824]\n",
    "# X_train_TMP0, X_test_TMP0, Y_train_TMP0, Y_test_TMP0 = train_test_split(x_train1,y_train1,test_size=0.371, random_state=42,shuffle=False)"
   ]
  },
  {
   "cell_type": "code",
   "execution_count": 16,
   "metadata": {
    "id": "bgdpLsn1iG5r"
   },
   "outputs": [],
   "source": [
    "x_scaler1 = StandardScaler()\n",
    "y_scaler1 = StandardScaler()\n",
    "X_train_TMP0_s = x_scaler1.fit_transform(X_train_TMP0)\n",
    "X_test_TMP0_s = x_scaler1.transform(X_test_TMP0)\n",
    "Y_train_TMP0_s = y_scaler1.fit_transform(Y_train_TMP0)\n",
    "Y_test_TMP0_s = y_scaler1.transform(Y_test_TMP0)"
   ]
  },
  {
   "cell_type": "code",
   "execution_count": 17,
   "metadata": {
    "id": "z1C_EPtjZ3Q4"
   },
   "outputs": [],
   "source": [
    "X_train_TMP0_s, X_val_TMP0_s, Y_train_TMP0_s, Y_val_TMP0_s = train_test_split(X_train_TMP0_s,Y_train_TMP0_s,\n",
    "                                                                              test_size=0.15,shuffle=False,random_state=1)"
   ]
  },
  {
   "cell_type": "markdown",
   "metadata": {
    "id": "4VFzN5YAijBQ"
   },
   "source": [
    "## TMP increase model"
   ]
  },
  {
   "cell_type": "code",
   "execution_count": 18,
   "metadata": {
    "id": "SYc9frGDTkNp"
   },
   "outputs": [],
   "source": [
    "labels_tmp_increase = list((np.array(range(1,72,1))).astype(str))\n",
    "x_train2 = data_FE[cf+df+tsf+label]\n",
    "y_train2 = data_FE[labels_tmp_increase]"
   ]
  },
  {
   "cell_type": "code",
   "execution_count": 19,
   "metadata": {
    "id": "jKsAF5F4Tu3i"
   },
   "outputs": [],
   "source": [
    "x_train2 = pd.concat((x_train2[cf].iloc[1:].reset_index(drop=True),\n",
    "                      x_train2[df+tsf].iloc[0:-1],\n",
    "                      x_train2[label].iloc[1:].reset_index(drop=True)),axis=1)\n",
    "y_train2 = y_train2.iloc[1:]"
   ]
  },
  {
   "cell_type": "code",
   "execution_count": 20,
   "metadata": {
    "id": "QPjMIJv4AlV6"
   },
   "outputs": [],
   "source": [
    "X_train_TMP_all = x_train2.iloc[0:7390]\n",
    "X_test_TMP_all = x_train2.iloc[7390:8824]\n",
    "Y_train_TMP_all = y_train2.iloc[0:7390]\n",
    "Y_test_TMP_all = y_train2.iloc[7390:8824]"
   ]
  },
  {
   "cell_type": "code",
   "execution_count": 21,
   "metadata": {
    "id": "70Mgi9Y-ZLGN"
   },
   "outputs": [],
   "source": [
    "x_scaler2 = StandardScaler()\n",
    "X_train_TMP_all_s = x_scaler2.fit_transform(X_train_TMP_all)\n",
    "X_test_TMP_all_s = x_scaler2.transform(X_test_TMP_all)"
   ]
  },
  {
   "cell_type": "code",
   "execution_count": 22,
   "metadata": {
    "id": "z16Cd5CWa3JW"
   },
   "outputs": [],
   "source": [
    "Y_train_TMP_all = [Y_train_TMP_all.iloc[i].dropna().values for i in range(len(Y_train_TMP_all))]\n",
    "Y_test_TMP_all = [Y_test_TMP_all.iloc[i].dropna().values for i in range(len(Y_test_TMP_all))]"
   ]
  },
  {
   "cell_type": "code",
   "execution_count": 23,
   "metadata": {
    "id": "UuGy3-zi4C3c"
   },
   "outputs": [],
   "source": [
    "mean_y = np.mean(np.concatenate(Y_train_TMP_all))\n",
    "std_y = np.std(np.concatenate(Y_train_TMP_all))\n",
    "Y_train_TMP_all_s = standardize_dataset(Y_train_TMP_all, mean_y,std_y)\n",
    "Y_test_TMP_all_s = standardize_dataset(Y_test_TMP_all, mean_y,std_y)"
   ]
  },
  {
   "cell_type": "code",
   "execution_count": 24,
   "metadata": {},
   "outputs": [],
   "source": [
    "X_train_TMP_all_s, X_val_TMP_all_s, Y_train_TMP_all_s, Y_val_TMP_all_s = train_test_split(X_train_TMP_all_s,Y_train_TMP_all_s,\n",
    "                                                                              test_size=0.15,shuffle=False,random_state=1)"
   ]
  },
  {
   "cell_type": "code",
   "execution_count": 25,
   "metadata": {
    "colab": {
     "base_uri": "https://localhost:8080/"
    },
    "id": "pjKY8N5OQP68",
    "outputId": "df6366a8-2b41-4969-8ec2-d84efa24060f"
   },
   "outputs": [
    {
     "data": {
      "text/plain": [
       "(6281, 7390, 6281, 7390)"
      ]
     },
     "execution_count": 25,
     "metadata": {},
     "output_type": "execute_result"
    }
   ],
   "source": [
    "len(X_train_TMP_all_s), len(X_train_TMP_all), len(Y_train_TMP_all_s), len(Y_train_TMP_all)"
   ]
  },
  {
   "cell_type": "code",
   "execution_count": 26,
   "metadata": {
    "colab": {
     "base_uri": "https://localhost:8080/",
     "height": 283
    },
    "id": "kirKoLLW9Lg2",
    "outputId": "3b0dec1a-e960-4b35-a882-d314fbafea17"
   },
   "outputs": [
    {
     "data": {
      "text/plain": [
       "[<matplotlib.lines.Line2D at 0x1e0692e0c10>]"
      ]
     },
     "execution_count": 26,
     "metadata": {},
     "output_type": "execute_result"
    },
    {
     "data": {
      "image/png": "[encoded data removed]",
      "text/plain": [
       "<Figure size 432x288 with 1 Axes>"
      ]
     },
     "metadata": {
      "needs_background": "light"
     },
     "output_type": "display_data"
    }
   ],
   "source": [
    "plt.plot(np.concatenate(Y_train_TMP_all))\n",
    "plt.plot(np.concatenate(Y_train_TMP_all_s))"
   ]
  },
  {
   "cell_type": "markdown",
   "metadata": {
    "id": "v-nRCXEibWyq"
   },
   "source": [
    "# Train"
   ]
  },
  {
   "cell_type": "code",
   "execution_count": 27,
   "metadata": {
    "id": "mFVCt_QBeS_p"
   },
   "outputs": [],
   "source": [
    "from sklearn.metrics import r2_score, mean_squared_error, mean_absolute_error, mean_absolute_error, explained_variance_score\n",
    "def evaluate(y_true,y_pred):\n",
    "  print('RMSE: ',mean_squared_error(y_true,y_pred,squared=False))\n",
    "  print('MSE: ',mean_squared_error(y_true,y_pred,squared=True))\n",
    "  print('MAE: ',mean_absolute_error(y_true,y_pred))\n",
    "  print('EVC: ',explained_variance_score(y_true,y_pred))\n",
    "  print('R2: ',r2_score(y_true,y_pred))"
   ]
  },
  {
   "cell_type": "markdown",
   "metadata": {
    "id": "Qh0hWxdWbtko"
   },
   "source": [
    "## Initial TMP prediction model"
   ]
  },
  {
   "cell_type": "code",
   "execution_count": 28,
   "metadata": {
    "id": "-Rv_APO_bxKF"
   },
   "outputs": [],
   "source": [
    "units = 32\n",
    "activation = 'selu'\n",
    "initializer = tf.keras.initializers.LecunNormal(seed=42)\n",
    "regularizer = tf.keras.regularizers.l1_l2(0.01)\n",
    "drop = 0\n",
    "input = tf.keras.layers.Input(shape=(X_train_TMP0.shape[1]))\n",
    "layer1 = tf.keras.layers.Dense(units,activation,kernel_initializer=initializer,bias_initializer=initializer,activity_regularizer=regularizer,name='dense_layer1')(input)\n",
    "layer1 = tf.keras.layers.AlphaDropout(drop,seed=42)(layer1)\n",
    "layer2 = tf.keras.layers.Dense(units,activation,kernel_initializer=initializer,bias_initializer=initializer,activity_regularizer=regularizer,name='dense_layer2')(layer1)\n",
    "layer2 = tf.keras.layers.AlphaDropout(drop,seed=42)(layer2)\n",
    "\n",
    "dense_output = tf.keras.layers.Dense(1,kernel_initializer=initializer,bias_initializer=initializer,activity_regularizer=regularizer,name='dense_output')(layer2)\n",
    "\n",
    "model_TMPD = tf.keras.Model(input,dense_output)\n"
   ]
  },
  {
   "cell_type": "code",
   "execution_count": 29,
   "metadata": {
    "id": "-lTEnzHxdh1y"
   },
   "outputs": [],
   "source": [
    "lr=0.001\n",
    "monitor='loss'\n",
    "factor = 0.2\n",
    "nb_epoch = 150\n",
    "batch_size = 128\n",
    "\n",
    "reduce_lr = tf.keras.callbacks.ReduceLROnPlateau(monitor=monitor, patience=10,\n",
    "                                  factor=factor, cooldown=0, min_lr=1e-4, verbose=2)\n",
    "early_stop = tf.keras.callbacks.EarlyStopping(monitor=monitor, patience=15, verbose=2,restore_best_weights=False)\n",
    "callback_list = [reduce_lr,early_stop]\n",
    "\n",
    "model_TMPD.compile(optimizer=tf.keras.optimizers.Adam(learning_rate=lr), loss='mse', metrics=['mae'])"
   ]
  },
  {
   "cell_type": "code",
   "execution_count": 30,
   "metadata": {
    "colab": {
     "base_uri": "https://localhost:8080/"
    },
    "id": "GxH3V5FHdwej",
    "outputId": "aff7068f-c0e9-416b-cc4b-b3c509c71635"
   },
   "outputs": [
    {
     "name": "stdout",
     "output_type": "stream",
     "text": [
      "Epoch 1/150\n",
      "50/50 [==============================] - 1s 1ms/step - loss: 2.5848 - mae: 1.0301\n",
      "Epoch 2/150\n",
      "50/50 [==============================] - 0s 2ms/step - loss: 1.2399 - mae: 0.4010\n",
      "Epoch 3/150\n",
      "50/50 [==============================] - 0s 2ms/step - loss: 1.0126 - mae: 0.2632\n",
      "Epoch 4/150\n",
      "50/50 [==============================] - 0s 2ms/step - loss: 0.8965 - mae: 0.2088\n",
      "Epoch 5/150\n",
      "50/50 [==============================] - 0s 2ms/step - loss: 0.8153 - mae: 0.2023\n",
      "Epoch 6/150\n",
      "50/50 [==============================] - 0s 2ms/step - loss: 0.7658 - mae: 0.2034\n",
      "Epoch 7/150\n",
      "50/50 [==============================] - 0s 2ms/step - loss: 0.7063 - mae: 0.2014\n",
      "Epoch 8/150\n",
      "50/50 [==============================] - 0s 2ms/step - loss: 0.6868 - mae: 0.2409\n",
      "Epoch 9/150\n",
      "50/50 [==============================] - 0s 2ms/step - loss: 0.6990 - mae: 0.2882\n",
      "Epoch 10/150\n",
      "50/50 [==============================] - 0s 2ms/step - loss: 0.6832 - mae: 0.3343\n",
      "Epoch 11/150\n",
      "50/50 [==============================] - 0s 2ms/step - loss: 0.6083 - mae: 0.2322\n",
      "Epoch 12/150\n",
      "50/50 [==============================] - 0s 2ms/step - loss: 0.6361 - mae: 0.2918\n",
      "Epoch 13/150\n",
      "50/50 [==============================] - 0s 2ms/step - loss: 0.7323 - mae: 0.4434\n",
      "Epoch 14/150\n",
      "50/50 [==============================] - 0s 2ms/step - loss: 0.6252 - mae: 0.3321\n",
      "Epoch 15/150\n",
      "50/50 [==============================] - 0s 2ms/step - loss: 0.5528 - mae: 0.2863\n",
      "Epoch 16/150\n",
      "50/50 [==============================] - 0s 2ms/step - loss: 0.4545 - mae: 0.1593\n",
      "Epoch 17/150\n",
      "50/50 [==============================] - 0s 2ms/step - loss: 0.4221 - mae: 0.1350\n",
      "Epoch 18/150\n",
      "50/50 [==============================] - 0s 2ms/step - loss: 0.3987 - mae: 0.1174\n",
      "Epoch 19/150\n",
      "50/50 [==============================] - 0s 2ms/step - loss: 0.3842 - mae: 0.1177\n",
      "Epoch 20/150\n",
      "50/50 [==============================] - 0s 2ms/step - loss: 0.3720 - mae: 0.1256\n",
      "Epoch 21/150\n",
      "50/50 [==============================] - 0s 2ms/step - loss: 0.3620 - mae: 0.1295\n",
      "Epoch 22/150\n",
      "50/50 [==============================] - 0s 2ms/step - loss: 0.3500 - mae: 0.1351\n",
      "Epoch 23/150\n",
      "50/50 [==============================] - 0s 2ms/step - loss: 0.3414 - mae: 0.1361\n",
      "Epoch 24/150\n",
      "50/50 [==============================] - 0s 2ms/step - loss: 0.3250 - mae: 0.1234\n",
      "Epoch 25/150\n",
      "50/50 [==============================] - 0s 2ms/step - loss: 0.3160 - mae: 0.1278\n",
      "Epoch 26/150\n",
      "50/50 [==============================] - 0s 2ms/step - loss: 0.3116 - mae: 0.1359\n",
      "Epoch 27/150\n",
      "50/50 [==============================] - 0s 2ms/step - loss: 0.3053 - mae: 0.1501\n",
      "Epoch 28/150\n",
      "50/50 [==============================] - 0s 2ms/step - loss: 0.3043 - mae: 0.1489\n",
      "Epoch 29/150\n",
      "50/50 [==============================] - 0s 2ms/step - loss: 0.2887 - mae: 0.1342\n",
      "Epoch 30/150\n",
      "50/50 [==============================] - 0s 2ms/step - loss: 0.2864 - mae: 0.1587\n",
      "Epoch 31/150\n",
      "50/50 [==============================] - 0s 2ms/step - loss: 0.3024 - mae: 0.1844\n",
      "Epoch 32/150\n",
      "50/50 [==============================] - 0s 2ms/step - loss: 0.2795 - mae: 0.1620\n",
      "Epoch 33/150\n",
      "50/50 [==============================] - 0s 2ms/step - loss: 0.2648 - mae: 0.1499\n",
      "Epoch 34/150\n",
      "50/50 [==============================] - 0s 2ms/step - loss: 0.2868 - mae: 0.1975\n",
      "Epoch 35/150\n",
      "50/50 [==============================] - 0s 2ms/step - loss: 0.2784 - mae: 0.1920\n",
      "Epoch 36/150\n",
      "50/50 [==============================] - 0s 2ms/step - loss: 0.2505 - mae: 0.1402\n",
      "Epoch 37/150\n",
      "50/50 [==============================] - 0s 2ms/step - loss: 0.2531 - mae: 0.1597\n",
      "Epoch 38/150\n",
      "50/50 [==============================] - 0s 2ms/step - loss: 0.2540 - mae: 0.1760\n",
      "Epoch 39/150\n",
      "50/50 [==============================] - 0s 2ms/step - loss: 0.2396 - mae: 0.1394\n",
      "Epoch 40/150\n",
      "50/50 [==============================] - 0s 2ms/step - loss: 0.2239 - mae: 0.1231\n",
      "Epoch 41/150\n",
      "50/50 [==============================] - 0s 2ms/step - loss: 0.2214 - mae: 0.1371\n",
      "Epoch 42/150\n",
      "50/50 [==============================] - 0s 2ms/step - loss: 0.2230 - mae: 0.1323\n",
      "Epoch 43/150\n",
      "50/50 [==============================] - 0s 2ms/step - loss: 0.2087 - mae: 0.1167\n",
      "Epoch 44/150\n",
      "50/50 [==============================] - 0s 2ms/step - loss: 0.2074 - mae: 0.1373\n",
      "Epoch 45/150\n",
      "50/50 [==============================] - 0s 2ms/step - loss: 0.2435 - mae: 0.1889\n",
      "Epoch 46/150\n",
      "50/50 [==============================] - 0s 2ms/step - loss: 0.2323 - mae: 0.1727\n",
      "Epoch 47/150\n",
      "50/50 [==============================] - 0s 2ms/step - loss: 0.2272 - mae: 0.1889\n",
      "Epoch 48/150\n",
      "50/50 [==============================] - 0s 2ms/step - loss: 0.2944 - mae: 0.2671\n",
      "Epoch 49/150\n",
      "50/50 [==============================] - 0s 2ms/step - loss: 0.2514 - mae: 0.2106\n",
      "Epoch 50/150\n",
      "50/50 [==============================] - 0s 2ms/step - loss: 0.1997 - mae: 0.1127\n",
      "Epoch 51/150\n",
      "50/50 [==============================] - 0s 2ms/step - loss: 0.1905 - mae: 0.1123\n",
      "Epoch 52/150\n",
      "50/50 [==============================] - 0s 2ms/step - loss: 0.1816 - mae: 0.1086\n",
      "Epoch 53/150\n",
      "50/50 [==============================] - 0s 2ms/step - loss: 0.1754 - mae: 0.1048\n",
      "Epoch 54/150\n",
      "50/50 [==============================] - 0s 2ms/step - loss: 0.1711 - mae: 0.1021\n",
      "Epoch 55/150\n",
      "50/50 [==============================] - 0s 2ms/step - loss: 0.1704 - mae: 0.1122\n",
      "Epoch 56/150\n",
      "50/50 [==============================] - 0s 2ms/step - loss: 0.1836 - mae: 0.1334\n",
      "Epoch 57/150\n",
      "50/50 [==============================] - 0s 2ms/step - loss: 0.1798 - mae: 0.1304\n",
      "Epoch 58/150\n",
      "50/50 [==============================] - 0s 2ms/step - loss: 0.2045 - mae: 0.1890\n",
      "Epoch 59/150\n",
      "50/50 [==============================] - 0s 2ms/step - loss: 0.2064 - mae: 0.1541\n",
      "Epoch 60/150\n",
      "50/50 [==============================] - 0s 2ms/step - loss: 0.1900 - mae: 0.1467\n",
      "Epoch 61/150\n",
      "50/50 [==============================] - 0s 2ms/step - loss: 0.2244 - mae: 0.2206\n",
      "Epoch 62/150\n",
      "50/50 [==============================] - 0s 2ms/step - loss: 0.2086 - mae: 0.1542\n",
      "Epoch 63/150\n",
      "50/50 [==============================] - 0s 2ms/step - loss: 0.2060 - mae: 0.1691\n",
      "Epoch 64/150\n",
      "50/50 [==============================] - 0s 2ms/step - loss: 0.2267 - mae: 0.2248\n",
      "Epoch 65/150\n",
      "50/50 [==============================] - 0s 2ms/step - loss: 0.2080 - mae: 0.1620\n",
      "Epoch 66/150\n",
      "50/50 [==============================] - 0s 2ms/step - loss: 0.1812 - mae: 0.1427\n",
      "Epoch 67/150\n",
      "50/50 [==============================] - 0s 2ms/step - loss: 0.1812 - mae: 0.1667\n",
      "Epoch 68/150\n",
      "50/50 [==============================] - 0s 2ms/step - loss: 0.2184 - mae: 0.1980\n",
      "Epoch 69/150\n",
      "50/50 [==============================] - 0s 2ms/step - loss: 0.1847 - mae: 0.1478\n",
      "Epoch 70/150\n",
      "50/50 [==============================] - 0s 2ms/step - loss: 0.1569 - mae: 0.1119\n",
      "Epoch 71/150\n",
      "50/50 [==============================] - 0s 2ms/step - loss: 0.1569 - mae: 0.1218\n",
      "Epoch 72/150\n",
      "50/50 [==============================] - 0s 2ms/step - loss: 0.1609 - mae: 0.1468\n",
      "Epoch 73/150\n",
      "50/50 [==============================] - 0s 3ms/step - loss: 0.1579 - mae: 0.1292\n",
      "Epoch 74/150\n",
      "50/50 [==============================] - 0s 2ms/step - loss: 0.1511 - mae: 0.1231\n",
      "Epoch 75/150\n",
      "50/50 [==============================] - 0s 2ms/step - loss: 0.1557 - mae: 0.1472\n",
      "Epoch 76/150\n",
      "50/50 [==============================] - 0s 2ms/step - loss: 0.1538 - mae: 0.1261\n",
      "Epoch 77/150\n",
      "50/50 [==============================] - 0s 2ms/step - loss: 0.1446 - mae: 0.1175\n",
      "Epoch 78/150\n",
      "50/50 [==============================] - 0s 2ms/step - loss: 0.1705 - mae: 0.1764\n",
      "Epoch 79/150\n",
      "50/50 [==============================] - 0s 2ms/step - loss: 0.1769 - mae: 0.1526\n",
      "Epoch 80/150\n",
      "50/50 [==============================] - 0s 2ms/step - loss: 0.1560 - mae: 0.1260\n",
      "Epoch 81/150\n",
      "50/50 [==============================] - 0s 2ms/step - loss: 0.1759 - mae: 0.1749\n",
      "Epoch 82/150\n",
      "50/50 [==============================] - 0s 2ms/step - loss: 0.1794 - mae: 0.1541\n",
      "Epoch 83/150\n",
      "50/50 [==============================] - 0s 2ms/step - loss: 0.1645 - mae: 0.1392\n",
      "Epoch 84/150\n",
      "50/50 [==============================] - 0s 2ms/step - loss: 0.1810 - mae: 0.1843\n",
      "Epoch 85/150\n",
      "50/50 [==============================] - 0s 2ms/step - loss: 0.1712 - mae: 0.1379\n",
      "Epoch 86/150\n",
      "50/50 [==============================] - 0s 2ms/step - loss: 0.1641 - mae: 0.1346\n",
      "Epoch 87/150\n",
      "50/50 [==============================] - 0s 2ms/step - loss: 0.1824 - mae: 0.1679\n",
      "Epoch 88/150\n",
      "50/50 [==============================] - 0s 2ms/step - loss: 0.1691 - mae: 0.1599\n",
      "Epoch 89/150\n",
      "50/50 [==============================] - 0s 2ms/step - loss: 0.1729 - mae: 0.1523\n",
      "Epoch 90/150\n",
      "50/50 [==============================] - 0s 2ms/step - loss: 0.1912 - mae: 0.2054\n",
      "Epoch 91/150\n",
      "50/50 [==============================] - 0s 2ms/step - loss: 0.1685 - mae: 0.1490\n",
      "Epoch 92/150\n",
      "50/50 [==============================] - 0s 2ms/step - loss: 0.1585 - mae: 0.1387\n",
      "Epoch 93/150\n",
      "50/50 [==============================] - 0s 2ms/step - loss: 0.1614 - mae: 0.1653\n",
      "Epoch 94/150\n",
      "50/50 [==============================] - 0s 2ms/step - loss: 0.1750 - mae: 0.1657\n",
      "Epoch 95/150\n",
      "50/50 [==============================] - 0s 2ms/step - loss: 0.1622 - mae: 0.1493\n",
      "Epoch 96/150\n",
      "50/50 [==============================] - 0s 2ms/step - loss: 0.1483 - mae: 0.1461\n",
      "Epoch 97/150\n",
      "50/50 [==============================] - 0s 2ms/step - loss: 0.1787 - mae: 0.1811\n",
      "Epoch 98/150\n",
      "50/50 [==============================] - 0s 2ms/step - loss: 0.1646 - mae: 0.1683\n",
      "Epoch 99/150\n",
      "50/50 [==============================] - 0s 2ms/step - loss: 0.1419 - mae: 0.1368\n",
      "Epoch 100/150\n",
      "50/50 [==============================] - 0s 2ms/step - loss: 0.1666 - mae: 0.1601\n",
      "Epoch 101/150\n",
      "50/50 [==============================] - 0s 2ms/step - loss: 0.1733 - mae: 0.1846\n",
      "Epoch 102/150\n",
      "50/50 [==============================] - 0s 2ms/step - loss: 0.1462 - mae: 0.1252\n",
      "Epoch 103/150\n",
      "50/50 [==============================] - 0s 2ms/step - loss: 0.1498 - mae: 0.1411\n",
      "Epoch 104/150\n",
      "50/50 [==============================] - 0s 2ms/step - loss: 0.1866 - mae: 0.2004\n",
      "Epoch 105/150\n",
      "50/50 [==============================] - 0s 2ms/step - loss: 0.1470 - mae: 0.1261\n",
      "Epoch 106/150\n",
      "50/50 [==============================] - 0s 2ms/step - loss: 0.1610 - mae: 0.1459\n",
      "Epoch 107/150\n",
      "50/50 [==============================] - 0s 2ms/step - loss: 0.1524 - mae: 0.1435\n",
      "Epoch 108/150\n",
      "50/50 [==============================] - 0s 2ms/step - loss: 0.1631 - mae: 0.1555\n",
      "Epoch 109/150\n",
      "50/50 [==============================] - 0s 2ms/step - loss: 0.1392 - mae: 0.1206\n",
      "Epoch 110/150\n",
      "50/50 [==============================] - 0s 2ms/step - loss: 0.1260 - mae: 0.1164\n",
      "Epoch 111/150\n",
      "50/50 [==============================] - 0s 2ms/step - loss: 0.1404 - mae: 0.1477\n",
      "Epoch 112/150\n",
      "50/50 [==============================] - 0s 2ms/step - loss: 0.1382 - mae: 0.1519\n",
      "Epoch 113/150\n",
      "50/50 [==============================] - 0s 2ms/step - loss: 0.1188 - mae: 0.1039\n",
      "Epoch 114/150\n",
      "50/50 [==============================] - 0s 2ms/step - loss: 0.1197 - mae: 0.1154\n",
      "Epoch 115/150\n",
      "50/50 [==============================] - 0s 2ms/step - loss: 0.1294 - mae: 0.1360\n",
      "Epoch 116/150\n",
      "50/50 [==============================] - 0s 2ms/step - loss: 0.1368 - mae: 0.1321\n",
      "Epoch 117/150\n",
      "50/50 [==============================] - 0s 2ms/step - loss: 0.1175 - mae: 0.1052\n",
      "Epoch 118/150\n",
      "50/50 [==============================] - 0s 2ms/step - loss: 0.1131 - mae: 0.1096\n",
      "Epoch 119/150\n",
      "50/50 [==============================] - 0s 2ms/step - loss: 0.1151 - mae: 0.1105\n",
      "Epoch 120/150\n",
      "50/50 [==============================] - 0s 2ms/step - loss: 0.1140 - mae: 0.1124\n",
      "Epoch 121/150\n",
      "50/50 [==============================] - 0s 2ms/step - loss: 0.1136 - mae: 0.1180\n",
      "Epoch 122/150\n",
      "50/50 [==============================] - 0s 2ms/step - loss: 0.1371 - mae: 0.1470\n",
      "Epoch 123/150\n",
      "50/50 [==============================] - 0s 2ms/step - loss: 0.1313 - mae: 0.1310\n",
      "Epoch 124/150\n",
      "50/50 [==============================] - 0s 2ms/step - loss: 0.1231 - mae: 0.1183\n",
      "Epoch 125/150\n",
      "50/50 [==============================] - 0s 2ms/step - loss: 0.1460 - mae: 0.1428\n",
      "Epoch 126/150\n",
      "50/50 [==============================] - 0s 2ms/step - loss: 0.1420 - mae: 0.1395\n",
      "Epoch 127/150\n",
      "50/50 [==============================] - 0s 2ms/step - loss: 0.1245 - mae: 0.1234\n",
      "Epoch 128/150\n",
      "50/50 [==============================] - 0s 2ms/step - loss: 0.1169 - mae: 0.1140\n",
      "Epoch 129/150\n",
      "50/50 [==============================] - 0s 2ms/step - loss: 0.1125 - mae: 0.1145\n",
      "Epoch 130/150\n",
      "50/50 [==============================] - 0s 2ms/step - loss: 0.1129 - mae: 0.1182\n",
      "Epoch 131/150\n",
      "50/50 [==============================] - 0s 2ms/step - loss: 0.1194 - mae: 0.1248\n",
      "Epoch 132/150\n",
      "50/50 [==============================] - 0s 3ms/step - loss: 0.1103 - mae: 0.1145\n",
      "Epoch 133/150\n",
      "50/50 [==============================] - 0s 2ms/step - loss: 0.1085 - mae: 0.1131\n",
      "Epoch 134/150\n",
      "50/50 [==============================] - 0s 2ms/step - loss: 0.1223 - mae: 0.1325\n",
      "Epoch 135/150\n",
      "50/50 [==============================] - 0s 2ms/step - loss: 0.1173 - mae: 0.1184\n",
      "Epoch 136/150\n",
      "50/50 [==============================] - 0s 2ms/step - loss: 0.1139 - mae: 0.1220\n",
      "Epoch 137/150\n",
      "50/50 [==============================] - 0s 2ms/step - loss: 0.1260 - mae: 0.1340\n",
      "Epoch 138/150\n",
      "50/50 [==============================] - 0s 2ms/step - loss: 0.1212 - mae: 0.1251\n",
      "Epoch 139/150\n",
      "50/50 [==============================] - 0s 2ms/step - loss: 0.1106 - mae: 0.1218\n",
      "Epoch 140/150\n",
      "50/50 [==============================] - 0s 2ms/step - loss: 0.1097 - mae: 0.1140\n",
      "Epoch 141/150\n",
      "50/50 [==============================] - 0s 2ms/step - loss: 0.1128 - mae: 0.1238\n",
      "Epoch 142/150\n",
      "50/50 [==============================] - 0s 3ms/step - loss: 0.1408 - mae: 0.1671\n",
      "Epoch 143/150\n",
      "50/50 [==============================] - 0s 2ms/step - loss: 0.1237 - mae: 0.1342\n",
      "Epoch 144/150\n",
      "50/50 [==============================] - 0s 2ms/step - loss: 0.1186 - mae: 0.1208\n",
      "Epoch 145/150\n",
      "50/50 [==============================] - 0s 2ms/step - loss: 0.1159 - mae: 0.1270\n",
      "Epoch 146/150\n",
      "50/50 [==============================] - 0s 2ms/step - loss: 0.1069 - mae: 0.1077\n",
      "Epoch 147/150\n",
      "50/50 [==============================] - 0s 2ms/step - loss: 0.1039 - mae: 0.1079\n",
      "Epoch 148/150\n",
      "50/50 [==============================] - 0s 2ms/step - loss: 0.1037 - mae: 0.1071\n",
      "Epoch 149/150\n",
      "50/50 [==============================] - 0s 2ms/step - loss: 0.1108 - mae: 0.1217\n",
      "Epoch 150/150\n",
      "50/50 [==============================] - 0s 2ms/step - loss: 0.1032 - mae: 0.1097\n"
     ]
    }
   ],
   "source": [
    "history = model_TMPD.fit(X_train_TMP0_s,Y_train_TMP0_s, batch_size=batch_size, epochs=nb_epoch,verbose=1,shuffle=False)"
   ]
  },
  {
   "cell_type": "code",
   "execution_count": 32,
   "metadata": {},
   "outputs": [],
   "source": [
    "# model_TMPD.save('C:/Users/Sohaila/OneDrive - Qatar University/Desalination Project/BWModel')\n",
    "# model_TMPD = tf.keras.models.load_model('C:/Users/Sohaila/OneDrive - Qatar University/Desalination Project/BWModel')"
   ]
  },
  {
   "cell_type": "code",
   "execution_count": 33,
   "metadata": {
    "id": "Uel63DtnVzqG"
   },
   "outputs": [],
   "source": [
    "# plt.plot(history.history['loss'])\n",
    "# plt.plot(history.history['val_loss'])"
   ]
  },
  {
   "cell_type": "code",
   "execution_count": 34,
   "metadata": {
    "id": "SNskZbO3d-xM"
   },
   "outputs": [],
   "source": [
    "pred_train = model_TMPD.predict(X_train_TMP0_s)\n",
    "pred_val = model_TMPD.predict(X_val_TMP0_s)\n",
    "pred_test = model_TMPD.predict(X_test_TMP0_s)"
   ]
  },
  {
   "cell_type": "code",
   "execution_count": 35,
   "metadata": {
    "colab": {
     "base_uri": "https://localhost:8080/",
     "height": 283
    },
    "id": "HoPhyqDENhVv",
    "outputId": "b358b43f-a172-475a-9495-07ff5021ed11"
   },
   "outputs": [
    {
     "data": {
      "text/plain": [
       "[<matplotlib.lines.Line2D at 0x1e0737c52e0>]"
      ]
     },
     "execution_count": 35,
     "metadata": {},
     "output_type": "execute_result"
    },
    {
     "data": {
      "image/png": "[encoded data removed]",
      "text/plain": [
       "<Figure size 432x288 with 1 Axes>"
      ]
     },
     "metadata": {
      "needs_background": "light"
     },
     "output_type": "display_data"
    }
   ],
   "source": [
    "plt.plot(pred_test)"
   ]
  },
  {
   "cell_type": "code",
   "execution_count": 36,
   "metadata": {
    "colab": {
     "base_uri": "https://localhost:8080/"
    },
    "id": "lPqfIZFqeN4_",
    "outputId": "d66aea3b-c66d-4477-8b60-16666db6a7c5"
   },
   "outputs": [
    {
     "name": "stdout",
     "output_type": "stream",
     "text": [
      "RMSE:  0.24825310521046542\n",
      "MSE:  0.061629604246638416\n",
      "MAE:  0.18760037531137322\n",
      "EVC:  0.9303608878782578\n",
      "R2:  0.9281036427831284\n"
     ]
    }
   ],
   "source": [
    "evaluate(y_scaler1.inverse_transform(Y_train_TMP0_s),y_scaler1.inverse_transform(pred_train))"
   ]
  },
  {
   "cell_type": "code",
   "execution_count": 37,
   "metadata": {},
   "outputs": [
    {
     "name": "stdout",
     "output_type": "stream",
     "text": [
      "RMSE:  0.32161818117261176\n",
      "MSE:  0.10343825446077892\n",
      "MAE:  0.25805238959720267\n",
      "EVC:  0.9256199375753424\n",
      "R2:  0.8648124580672091\n"
     ]
    }
   ],
   "source": [
    "evaluate(y_scaler1.inverse_transform(Y_val_TMP0_s),y_scaler1.inverse_transform(pred_val))"
   ]
  },
  {
   "cell_type": "code",
   "execution_count": 38,
   "metadata": {
    "colab": {
     "base_uri": "https://localhost:8080/"
    },
    "id": "zhN7pqo2egMU",
    "outputId": "7430fa88-6f46-468e-d129-7fe216a367eb"
   },
   "outputs": [
    {
     "name": "stdout",
     "output_type": "stream",
     "text": [
      "RMSE:  0.13422400122845424\n",
      "MSE:  0.018016082505776087\n",
      "MAE:  0.10299752002030564\n",
      "EVC:  0.869591771056631\n",
      "R2:  0.8571279234032443\n"
     ]
    }
   ],
   "source": [
    "evaluate(Y_test_TMP0,y_scaler1.inverse_transform(pred_test))"
   ]
  },
  {
   "cell_type": "code",
   "execution_count": 39,
   "metadata": {
    "colab": {
     "base_uri": "https://localhost:8080/",
     "height": 283
    },
    "id": "dFa-fvNWejW6",
    "outputId": "3c4a0676-f9f7-442d-bfa9-9aa92b4c6b14"
   },
   "outputs": [
    {
     "data": {
      "text/plain": [
       "[<matplotlib.lines.Line2D at 0x1e0735d9ca0>]"
      ]
     },
     "execution_count": 39,
     "metadata": {},
     "output_type": "execute_result"
    },
    {
     "data": {
      "image/png": "[encoded data removed]",
      "text/plain": [
       "<Figure size 432x288 with 1 Axes>"
      ]
     },
     "metadata": {
      "needs_background": "light"
     },
     "output_type": "display_data"
    }
   ],
   "source": [
    "plt.plot(Y_test_TMP0.values)\n",
    "plt.plot(y_scaler1.inverse_transform(pred_test))"
   ]
  },
  {
   "cell_type": "code",
   "execution_count": 40,
   "metadata": {},
   "outputs": [
    {
     "data": {
      "text/plain": [
       "<matplotlib.legend.Legend at 0x1e073312970>"
      ]
     },
     "execution_count": 40,
     "metadata": {},
     "output_type": "execute_result"
    },
    {
     "data": {
      "image/png": "[encoded data removed]",
      "text/plain": [
       "<Figure size 432x288 with 1 Axes>"
      ]
     },
     "metadata": {
      "needs_background": "light"
     },
     "output_type": "display_data"
    }
   ],
   "source": [
    "plt.plot(Y_test_TMP0.values[-100:],'o-',label='Actual')\n",
    "plt.plot(y_scaler1.inverse_transform(pred_test)[-100:],'o-',label='Prediction')\n",
    "plt.xlabel('Cycle')\n",
    "plt.ylabel('Initial TMP value')\n",
    "plt.title('BWTMP- Model')\n",
    "plt.legend()"
   ]
  },
  {
   "cell_type": "markdown",
   "metadata": {
    "id": "lnz6LAKk2pMb"
   },
   "source": [
    "## TMP increase Model"
   ]
  },
  {
   "cell_type": "code",
   "execution_count": 41,
   "metadata": {
    "id": "FoDkQKqXrRgr"
   },
   "outputs": [],
   "source": [
    "class Autoregressive_Dense(tf.keras.Model):\n",
    "  def __init__(self, units,n_layers,activation=None,reg=None,drop=0,init=None,b_init=None):\n",
    "    super().__init__()\n",
    "    self.units = units\n",
    "    self.drop = drop\n",
    "    self.n_layers = n_layers\n",
    "    self.dense_layers = []\n",
    "    self.activations = []\n",
    "    self.drop_layers = []\n",
    "    u = units\n",
    "    for i in range(self.n_layers):\n",
    "      self.dense_layers.append(tf.keras.layers.Dense(u,activity_regularizer=reg,kernel_initializer=init,bias_initializer=b_init,name='dense_'+str(i)))\n",
    "      self.activations.append(tf.keras.layers.Activation(activation,name='activation_'+str(i)))\n",
    "      self.drop_layers.append(tf.keras.layers.Dropout(self.drop,seed=42,name='drop_'+str(i)))\n",
    "#       u = units/2\n",
    "\n",
    "    self.dense_output = tf.keras.layers.Dense(1,kernel_initializer=init,bias_initializer=b_init,activity_regularizer=reg,name='dense_output')\n",
    "\n",
    "  def network(self, inputs): \n",
    "    x = self.dense_layers[0](inputs)\n",
    "    x = self.activations[0](x)\n",
    "    x = self.drop_layers[0](x)\n",
    "    for i in range(1,self.n_layers):\n",
    "      x = self.dense_layers[i](x)\n",
    "      x = self.activations[i](x)\n",
    "      x = self.drop_layers[i](x)\n",
    "\n",
    "    prediction = self.dense_output(x)\n",
    "    return prediction\n",
    "\n",
    "  def call(self, inputs):\n",
    "    predictions = []\n",
    "    x_variables = inputs[0] ##(batch,num_features)\n",
    "    x_tmp = inputs[1] ## (batch,1)\n",
    "    out_steps = inputs[2]\n",
    "    a = np.zeros((x_tmp.shape[0],1))\n",
    "    a = (a-np.mean(range(0,25)))/np.std(range(0,25))\n",
    "    x = tf.concat([x_variables,x_tmp,a],axis=-1) ##(batch,num_features+1)\n",
    "    prediction = self.network(x)\n",
    "    predictions.append(prediction)\n",
    "\n",
    "    # Run the rest of the prediction steps.\n",
    "    for n in range(1, tf.cast(out_steps,tf.int32)):\n",
    "      a = np.zeros((x_tmp.shape[0],1))\n",
    "      a.fill(n)\n",
    "      a = (a-np.mean(range(0,25)))/np.std(range(0,25))\n",
    "      # print(a)\n",
    "      # a = tf.Variable(a,dtype=tf.float32)\n",
    "      x = tf.concat([x_variables,prediction,a],axis=-1)\n",
    "      \n",
    "      prediction = self.network(x)\n",
    "\n",
    "      predictions.append(prediction)\n",
    "\n",
    "    predictions = tf.stack(predictions)\n",
    "\n",
    "    return predictions"
   ]
  },
  {
   "cell_type": "code",
   "execution_count": 42,
   "metadata": {
    "id": "Z70w3wn30C9E"
   },
   "outputs": [],
   "source": [
    "model_TMPI = Autoregressive_Dense(units=64,n_layers=2,activation=tf.keras.layers.ReLU(),reg=tf.keras.regularizers.l1_l2(0.01),drop=0,\n",
    "                             init=tf.keras.initializers.GlorotNormal(seed=42),b_init=tf.keras.initializers.GlorotNormal(seed=42))"
   ]
  },
  {
   "cell_type": "code",
   "execution_count": 43,
   "metadata": {
    "id": "vuqkvSDCJ5IH"
   },
   "outputs": [],
   "source": [
    "optimizer = tf.keras.optimizers.Adam(0.001)\n",
    "loss_fn = tf.keras.losses.MeanSquaredError()\n",
    "train_acc_metric1 = tf.keras.metrics.MeanSquaredError()\n",
    "train_acc_metric2 = tf.keras.metrics.MeanAbsoluteError()\n",
    "train_acc_metric3 = tf.keras.metrics.MeanAbsolutePercentageError()\n",
    "val_acc_metric = tf.keras.metrics.MeanSquaredError()"
   ]
  },
  {
   "cell_type": "code",
   "execution_count": 44,
   "metadata": {
    "colab": {
     "base_uri": "https://localhost:8080/"
    },
    "id": "1bKjq53mVLuc",
    "outputId": "722ff00b-055a-4621-c8a8-90dbc7f6fe58"
   },
   "outputs": [
    {
     "data": {
      "text/plain": [
       "[]"
      ]
     },
     "execution_count": 44,
     "metadata": {},
     "output_type": "execute_result"
    }
   ],
   "source": [
    "tf.config.list_physical_devices('GPU')"
   ]
  },
  {
   "cell_type": "markdown",
   "metadata": {
    "id": "NNA9Q9jUB1Ux"
   },
   "source": [
    "# Train"
   ]
  },
  {
   "cell_type": "code",
   "execution_count": 45,
   "metadata": {
    "colab": {
     "base_uri": "https://localhost:8080/"
    },
    "id": "OPEMmDHIJwLQ",
    "outputId": "107dcffe-8e72-4598-a14a-6d9173cbcab0"
   },
   "outputs": [
    {
     "name": "stdout",
     "output_type": "stream",
     "text": [
      "Start of epoch 0/100\n",
      "Loss: 0.3320, Training metrics: MSE: 2.5716, MAE: 1.3833, MAPE: 1074.0089\n",
      "Start of epoch 1/100\n",
      "Loss: 0.0974, Training metrics: MSE: 0.9288, MAE: 0.7333, MAPE: 346.5338\n",
      "Start of epoch 2/100\n",
      "Loss: 0.1073, Training metrics: MSE: 0.2093, MAE: 0.3420, MAPE: 280.7522\n",
      "Start of epoch 3/100\n",
      "Loss: 0.1208, Training metrics: MSE: 0.1037, MAE: 0.2294, MAPE: 230.4704\n",
      "Start of epoch 4/100\n",
      "Loss: 0.0856, Training metrics: MSE: 0.0696, MAE: 0.1893, MAPE: 187.1152\n",
      "Start of epoch 5/100\n",
      "Loss: 0.0753, Training metrics: MSE: 0.0518, MAE: 0.1647, MAPE: 165.1290\n",
      "Start of epoch 6/100\n",
      "Loss: 0.0688, Training metrics: MSE: 0.0410, MAE: 0.1474, MAPE: 136.0173\n",
      "Start of epoch 7/100\n",
      "Loss: 0.0641, Training metrics: MSE: 0.0342, MAE: 0.1345, MAPE: 126.4612\n",
      "Start of epoch 8/100\n",
      "Loss: 0.0601, Training metrics: MSE: 0.0307, MAE: 0.1272, MAPE: 105.9984\n",
      "Start of epoch 9/100\n",
      "Loss: 0.0572, Training metrics: MSE: 0.0280, MAE: 0.1214, MAPE: 107.2613\n",
      "Start of epoch 10/100\n",
      "Loss: 0.0543, Training metrics: MSE: 0.0270, MAE: 0.1185, MAPE: 93.8069\n",
      "Start of epoch 11/100\n",
      "Loss: 0.0529, Training metrics: MSE: 0.0265, MAE: 0.1195, MAPE: 95.7446\n",
      "Start of epoch 12/100\n",
      "Loss: 0.0504, Training metrics: MSE: 0.0270, MAE: 0.1176, MAPE: 95.4638\n",
      "Start of epoch 13/100\n",
      "Loss: 0.0504, Training metrics: MSE: 0.0281, MAE: 0.1256, MAPE: 80.6641\n",
      "Start of epoch 14/100\n",
      "Loss: 0.0468, Training metrics: MSE: 0.0274, MAE: 0.1207, MAPE: 122.8012\n",
      "Start of epoch 15/100\n",
      "Loss: 0.0452, Training metrics: MSE: 0.0295, MAE: 0.1308, MAPE: 125.3212\n",
      "Start of epoch 16/100\n",
      "Loss: 0.0506, Training metrics: MSE: 0.0415, MAE: 0.1588, MAPE: 182.3938\n",
      "Start of epoch 17/100\n",
      "Loss: 0.0601, Training metrics: MSE: 0.0970, MAE: 0.2450, MAPE: 210.5894\n",
      "Start of epoch 18/100\n",
      "Loss: 0.0946, Training metrics: MSE: 0.2009, MAE: 0.3683, MAPE: 147.5552\n",
      "Start of epoch 19/100\n",
      "Loss: 0.0854, Training metrics: MSE: 0.1515, MAE: 0.3270, MAPE: 223.8056\n",
      "Start of epoch 20/100\n",
      "Loss: 0.0656, Training metrics: MSE: 0.1785, MAE: 0.3789, MAPE: 346.6290\n",
      "Start of epoch 21/100\n",
      "Loss: 0.0465, Training metrics: MSE: 0.1142, MAE: 0.2568, MAPE: 368.6864\n",
      "Start of epoch 22/100\n",
      "Loss: 0.0424, Training metrics: MSE: 0.1892, MAE: 0.3339, MAPE: 408.6758\n",
      "Start of epoch 23/100\n",
      "Loss: 0.0439, Training metrics: MSE: 0.1205, MAE: 0.2828, MAPE: 173.3234\n",
      "Start of epoch 24/100\n",
      "Loss: 0.0426, Training metrics: MSE: 0.0558, MAE: 0.1808, MAPE: 106.9743\n",
      "Start of epoch 25/100\n",
      "Loss: 0.0460, Training metrics: MSE: 0.0536, MAE: 0.1922, MAPE: 152.2490\n",
      "Start of epoch 26/100\n",
      "Loss: 0.0397, Training metrics: MSE: 0.0402, MAE: 0.1496, MAPE: 210.1833\n",
      "Start of epoch 27/100\n",
      "Loss: 0.0395, Training metrics: MSE: 0.0421, MAE: 0.1565, MAPE: 198.1024\n",
      "Start of epoch 28/100\n",
      "Loss: 0.0378, Training metrics: MSE: 0.0289, MAE: 0.1262, MAPE: 151.1879\n",
      "Start of epoch 29/100\n",
      "Loss: 0.0363, Training metrics: MSE: 0.0248, MAE: 0.1132, MAPE: 108.6770\n",
      "Start of epoch 30/100\n",
      "Loss: 0.0379, Training metrics: MSE: 0.0206, MAE: 0.1061, MAPE: 74.2746\n",
      "Start of epoch 31/100\n",
      "Loss: 0.0348, Training metrics: MSE: 0.0192, MAE: 0.0934, MAPE: 77.6889\n",
      "Start of epoch 32/100\n",
      "Loss: 0.0367, Training metrics: MSE: 0.0200, MAE: 0.1061, MAPE: 90.0302\n",
      "Start of epoch 33/100\n",
      "Loss: 0.0338, Training metrics: MSE: 0.0198, MAE: 0.0993, MAPE: 111.0819\n",
      "Start of epoch 34/100\n",
      "Loss: 0.0329, Training metrics: MSE: 0.0210, MAE: 0.1050, MAPE: 105.6030\n",
      "Start of epoch 35/100\n",
      "Loss: 0.0350, Training metrics: MSE: 0.0203, MAE: 0.1053, MAPE: 89.5695\n",
      "Start of epoch 36/100\n",
      "Loss: 0.0313, Training metrics: MSE: 0.0200, MAE: 0.0979, MAPE: 68.9264\n",
      "Start of epoch 37/100\n",
      "Loss: 0.0368, Training metrics: MSE: 0.0208, MAE: 0.1091, MAPE: 73.0160\n",
      "Start of epoch 38/100\n",
      "Loss: 0.0304, Training metrics: MSE: 0.0215, MAE: 0.1057, MAPE: 123.2122\n",
      "Start of epoch 39/100\n",
      "Loss: 0.0302, Training metrics: MSE: 0.0273, MAE: 0.1251, MAPE: 142.4495\n",
      "Start of epoch 40/100\n",
      "Loss: 0.0352, Training metrics: MSE: 0.0304, MAE: 0.1364, MAPE: 136.5054\n",
      "Start of epoch 41/100\n",
      "Loss: 0.0321, Training metrics: MSE: 0.0364, MAE: 0.1483, MAPE: 106.7285\n",
      "Start of epoch 42/100\n",
      "Loss: 0.0469, Training metrics: MSE: 0.0444, MAE: 0.1697, MAPE: 93.8084\n",
      "Start of epoch 43/100\n",
      "Loss: 0.0311, Training metrics: MSE: 0.0468, MAE: 0.1770, MAPE: 222.2493\n",
      "Start of epoch 44/100\n",
      "Loss: 0.0286, Training metrics: MSE: 0.0817, MAE: 0.2259, MAPE: 295.0899\n",
      "Start of epoch 45/100\n",
      "Loss: 0.0348, Training metrics: MSE: 0.0773, MAE: 0.2274, MAPE: 229.0838\n",
      "Start of epoch 46/100\n",
      "Loss: 0.0383, Training metrics: MSE: 0.0912, MAE: 0.2518, MAPE: 163.7208\n",
      "Start of epoch 47/100\n",
      "Loss: 0.0556, Training metrics: MSE: 0.1139, MAE: 0.2743, MAPE: 163.3624\n",
      "Start of epoch 48/100\n",
      "Loss: 0.0339, Training metrics: MSE: 0.0856, MAE: 0.2402, MAPE: 331.7384\n",
      "Start of epoch 49/100\n",
      "Loss: 0.0353, Training metrics: MSE: 0.1268, MAE: 0.2815, MAPE: 394.3712\n",
      "Start of epoch 50/100\n",
      "Loss: 0.0306, Training metrics: MSE: 0.0547, MAE: 0.1790, MAPE: 200.5106\n",
      "Start of epoch 51/100\n",
      "Loss: 0.0282, Training metrics: MSE: 0.0382, MAE: 0.1507, MAPE: 112.8080\n",
      "Start of epoch 52/100\n",
      "Loss: 0.0338, Training metrics: MSE: 0.0357, MAE: 0.1520, MAPE: 88.9031\n",
      "Start of epoch 53/100\n",
      "Loss: 0.0278, Training metrics: MSE: 0.0350, MAE: 0.1442, MAPE: 174.7416\n",
      "Start of epoch 54/100\n",
      "Loss: 0.0348, Training metrics: MSE: 0.0394, MAE: 0.1617, MAPE: 185.4565\n",
      "Start of epoch 55/100\n",
      "Loss: 0.0267, Training metrics: MSE: 0.0260, MAE: 0.1209, MAPE: 151.6946\n",
      "Start of epoch 56/100\n",
      "Loss: 0.0274, Training metrics: MSE: 0.0212, MAE: 0.1049, MAPE: 103.6986\n",
      "Start of epoch 57/100\n",
      "Loss: 0.0279, Training metrics: MSE: 0.0176, MAE: 0.0985, MAPE: 68.7074\n",
      "Start of epoch 58/100\n",
      "Loss: 0.0249, Training metrics: MSE: 0.0184, MAE: 0.0947, MAPE: 87.2381\n",
      "Start of epoch 59/100\n",
      "Loss: 0.0301, Training metrics: MSE: 0.0218, MAE: 0.1167, MAPE: 110.3429\n",
      "Start of epoch 60/100\n",
      "Loss: 0.0241, Training metrics: MSE: 0.0205, MAE: 0.1048, MAPE: 129.2184\n",
      "Start of epoch 61/100\n",
      "Loss: 0.0247, Training metrics: MSE: 0.0201, MAE: 0.1033, MAPE: 108.7206\n",
      "Start of epoch 62/100\n",
      "Loss: 0.0256, Training metrics: MSE: 0.0172, MAE: 0.0975, MAPE: 74.5231\n",
      "Start of epoch 63/100\n",
      "Loss: 0.0224, Training metrics: MSE: 0.0181, MAE: 0.0948, MAPE: 74.2855\n",
      "Start of epoch 64/100\n",
      "Loss: 0.0297, Training metrics: MSE: 0.0239, MAE: 0.1247, MAPE: 114.6652\n",
      "Start of epoch 65/100\n",
      "Loss: 0.0220, Training metrics: MSE: 0.0256, MAE: 0.1225, MAPE: 158.5843\n",
      "Start of epoch 66/100\n",
      "Loss: 0.0221, Training metrics: MSE: 0.0291, MAE: 0.1290, MAPE: 149.4855\n",
      "Start of epoch 67/100\n",
      "Loss: 0.0256, Training metrics: MSE: 0.0251, MAE: 0.1251, MAPE: 88.9330\n",
      "Start of epoch 68/100\n",
      "Loss: 0.0227, Training metrics: MSE: 0.0295, MAE: 0.1307, MAPE: 91.2126\n",
      "Start of epoch 69/100\n",
      "Loss: 0.0366, Training metrics: MSE: 0.0496, MAE: 0.1905, MAPE: 185.2553\n",
      "Start of epoch 70/100\n",
      "Loss: 0.0230, Training metrics: MSE: 0.0513, MAE: 0.1850, MAPE: 243.3309\n",
      "Start of epoch 71/100\n",
      "Loss: 0.0214, Training metrics: MSE: 0.0641, MAE: 0.1964, MAPE: 243.8958\n",
      "Start of epoch 72/100\n",
      "Loss: 0.0258, Training metrics: MSE: 0.0454, MAE: 0.1751, MAPE: 92.4281\n",
      "Start of epoch 73/100\n",
      "Loss: 0.0250, Training metrics: MSE: 0.0536, MAE: 0.1836, MAPE: 144.1105\n",
      "Start of epoch 74/100\n",
      "Loss: 0.0484, Training metrics: MSE: 0.1003, MAE: 0.2774, MAPE: 286.6201\n",
      "Start of epoch 75/100\n",
      "Loss: 0.0312, Training metrics: MSE: 0.0714, MAE: 0.2227, MAPE: 289.6512\n",
      "Start of epoch 76/100\n",
      "Loss: 0.0242, Training metrics: MSE: 0.0684, MAE: 0.2024, MAPE: 259.2733\n",
      "Start of epoch 77/100\n",
      "Loss: 0.0238, Training metrics: MSE: 0.0334, MAE: 0.1457, MAPE: 84.3859\n",
      "Start of epoch 78/100\n",
      "Loss: 0.0219, Training metrics: MSE: 0.0367, MAE: 0.1490, MAPE: 125.2618\n",
      "Start of epoch 79/100\n",
      "Loss: 0.0380, Training metrics: MSE: 0.0562, MAE: 0.2027, MAPE: 207.6685\n",
      "Start of epoch 80/100\n",
      "Loss: 0.0253, Training metrics: MSE: 0.0402, MAE: 0.1625, MAPE: 204.9951\n",
      "Start of epoch 81/100\n",
      "Loss: 0.0261, Training metrics: MSE: 0.0332, MAE: 0.1399, MAPE: 171.5004\n",
      "Start of epoch 82/100\n",
      "Loss: 0.0216, Training metrics: MSE: 0.0193, MAE: 0.1052, MAPE: 82.4448\n",
      "Start of epoch 83/100\n",
      "Loss: 0.0202, Training metrics: MSE: 0.0201, MAE: 0.1036, MAPE: 80.6929\n",
      "Start of epoch 84/100\n",
      "Loss: 0.0295, Training metrics: MSE: 0.0278, MAE: 0.1371, MAPE: 127.0695\n",
      "Start of epoch 85/100\n",
      "Loss: 0.0209, Training metrics: MSE: 0.0255, MAE: 0.1241, MAPE: 153.3408\n",
      "Start of epoch 86/100\n",
      "Loss: 0.0238, Training metrics: MSE: 0.0233, MAE: 0.1159, MAPE: 134.5758\n",
      "Start of epoch 87/100\n"
     ]
    },
    {
     "name": "stdout",
     "output_type": "stream",
     "text": [
      "Loss: 0.0203, Training metrics: MSE: 0.0167, MAE: 0.0968, MAPE: 79.6543\n",
      "Start of epoch 88/100\n",
      "Loss: 0.0189, Training metrics: MSE: 0.0179, MAE: 0.0970, MAPE: 73.0958\n",
      "Start of epoch 89/100\n",
      "Loss: 0.0285, Training metrics: MSE: 0.0258, MAE: 0.1316, MAPE: 120.6253\n",
      "Start of epoch 90/100\n",
      "Loss: 0.0200, Training metrics: MSE: 0.0260, MAE: 0.1270, MAPE: 158.7802\n",
      "Start of epoch 91/100\n",
      "Loss: 0.0217, Training metrics: MSE: 0.0259, MAE: 0.1226, MAPE: 144.4927\n",
      "Start of epoch 92/100\n",
      "Loss: 0.0201, Training metrics: MSE: 0.0195, MAE: 0.1081, MAPE: 77.7238\n",
      "Start of epoch 93/100\n",
      "Loss: 0.0186, Training metrics: MSE: 0.0237, MAE: 0.1169, MAPE: 88.1906\n",
      "Start of epoch 94/100\n",
      "Loss: 0.0330, Training metrics: MSE: 0.0398, MAE: 0.1689, MAPE: 167.0446\n",
      "Start of epoch 95/100\n",
      "Loss: 0.0222, Training metrics: MSE: 0.0381, MAE: 0.1598, MAPE: 204.5831\n",
      "Start of epoch 96/100\n",
      "Loss: 0.0199, Training metrics: MSE: 0.0388, MAE: 0.1528, MAPE: 179.6231\n",
      "Start of epoch 97/100\n",
      "Loss: 0.0221, Training metrics: MSE: 0.0291, MAE: 0.1368, MAPE: 70.3876\n",
      "Start of epoch 98/100\n",
      "Loss: 0.0208, Training metrics: MSE: 0.0391, MAE: 0.1574, MAPE: 142.7008\n",
      "Start of epoch 99/100\n",
      "Loss: 0.0410, Training metrics: MSE: 0.0699, MAE: 0.2297, MAPE: 250.1105\n"
     ]
    }
   ],
   "source": [
    "epochs = 100\n",
    "batch = 256\n",
    "val_loss = []\n",
    "X_train_s, Y_train_s = X_train_TMP_all_s, Y_train_TMP_all_s\n",
    "\n",
    "for epoch in range(epochs):\n",
    "    print(\"Start of epoch %d/%d\" % (epoch,epochs))\n",
    "    # X_train_s, Y_train_s = sklearn.utils.shuffle(X_train_s, Y_train_s)\n",
    "    for i in range(0,len(X_train_s)-batch,batch):\n",
    "\n",
    "        # Open a GradientTape to record the operations run\n",
    "        # during the forward pass, which enables auto-differentiation.\n",
    "        out_steps = np.min([len(Y_train_s[j]) for j in range(i,i+batch)])\n",
    "        x1 = X_train_s[i:i+batch,0:-1]\n",
    "        x2 = np.expand_dims(X_train_s[i:i+batch,-1],axis=1)\n",
    "        output = [y[0:out_steps] for y in Y_train_s[i:i+batch]]\n",
    "        output = np.expand_dims(np.transpose(output),axis=-1)\n",
    "        with tf.GradientTape() as tape:\n",
    "            # Run the forward pass of the layer.\n",
    "            logits = model_TMPI([x1,x2,out_steps], training=True)  # Logits for this minibatch\n",
    "            # Compute the loss value for this minibatch.\n",
    "            loss_value = loss_fn(output, logits)\n",
    "\n",
    "        # Use the gradient tape to automatically retrieve the gradients of the trainable variables with respect to the loss.\n",
    "        grads = tape.gradient(loss_value, model_TMPI.trainable_weights)\n",
    "        # Run one step of gradient descent by updating the value of the variables to minimize the loss.\n",
    "        optimizer.apply_gradients(zip(grads, model_TMPI.trainable_weights))\n",
    "        # Update the training metrics\n",
    "        train_acc_metric1.update_state(output, logits)\n",
    "        train_acc_metric2.update_state(output, logits)\n",
    "        train_acc_metric3.update_state(output, logits)\n",
    "\n",
    "    train_acc1 = train_acc_metric1.result()\n",
    "    train_acc2 = train_acc_metric2.result()\n",
    "    train_acc3 = train_acc_metric3.result()\n",
    "    print(\"Loss: %.4f, Training metrics: MSE: %.4f, MAE: %.4f, MAPE: %.4f\" % (float(loss_value),float(train_acc1),float(train_acc2),float(train_acc3)))\n",
    "\n",
    "    # Reset training metrics at the end of each epoch\n",
    "    train_acc_metric1.reset_states()\n",
    "    train_acc_metric2.reset_states()\n",
    "    train_acc_metric3.reset_states()\n"
   ]
  },
  {
   "cell_type": "code",
   "execution_count": 46,
   "metadata": {},
   "outputs": [],
   "source": [
    "# model.save_weights('C:/Users/Sohaila/OneDrive - Qatar University/Desalination Project/ARModel.h5')\n",
    "# model_TMPI.load_weights('C:/Users/Sohaila/OneDrive - Qatar University/Desalination Project/ARModel.h5')"
   ]
  },
  {
   "cell_type": "code",
   "execution_count": 47,
   "metadata": {
    "id": "cu8qsg9AQeO0"
   },
   "outputs": [],
   "source": [
    "# pred_train = []\n",
    "# for i in range(len(X_train_TMP_all_s)-1):\n",
    "#   p = model([X_train_TMP_all_s[i:i+1,0:-1],np.expand_dims(X_train_TMP_all_s[i:i+1,-1],axis=1),len(Y_train_TMP_all_s[i])],training=False)\n",
    "#   try:\n",
    "#     pred_train.append(inverse_standardize(np.squeeze(p.numpy()),mean_y,std_y))\n",
    "#   except:\n",
    "#     pred_train.append([(np.squeeze(p.numpy())*std_y)+mean_y])"
   ]
  },
  {
   "cell_type": "code",
   "execution_count": 48,
   "metadata": {
    "id": "w40yJNQHQkyg"
   },
   "outputs": [],
   "source": [
    "# evaluate(np.concatenate(Y_train_TMP_all)[0:len(np.concatenate(pred_train))],np.concatenate(pred_train))"
   ]
  },
  {
   "cell_type": "code",
   "execution_count": 49,
   "metadata": {
    "id": "JhB6ofcqWKcv"
   },
   "outputs": [],
   "source": [
    "# plt.plot(np.concatenate(Y_train_TMP_all))\n",
    "# plt.plot(np.concatenate(pred_train))"
   ]
  },
  {
   "cell_type": "code",
   "execution_count": 50,
   "metadata": {},
   "outputs": [],
   "source": [
    "pred_val = []\n",
    "for i in range(len(X_val_TMP_all_s)):\n",
    "  p = model_TMPI([X_val_TMP_all_s[i:i+1,0:-1],np.expand_dims(X_val_TMP_all_s[i:i+1,-1],axis=1),len(Y_val_TMP_all_s[i])],training=False)\n",
    "  try:\n",
    "    pred_val.append(inverse_standardize(np.squeeze(p.numpy()), mean_y,std_y))\n",
    "  except TypeError:\n",
    "    pred_val.append([(np.squeeze(p.numpy())*std_y)+mean_y])"
   ]
  },
  {
   "cell_type": "code",
   "execution_count": 51,
   "metadata": {},
   "outputs": [
    {
     "name": "stdout",
     "output_type": "stream",
     "text": [
      "RMSE:  0.49318413135274014\n",
      "MSE:  0.24323058741815684\n",
      "MAE:  0.38358360166364097\n",
      "EVC:  0.8727759150205736\n",
      "R2:  0.7980347806562788\n"
     ]
    }
   ],
   "source": [
    "evaluate(inverse_standardize(np.concatenate(Y_val_TMP_all_s), mean_y,std_y),np.concatenate(pred_val))"
   ]
  },
  {
   "cell_type": "code",
   "execution_count": 52,
   "metadata": {
    "id": "ct5OSFHEyDr8"
   },
   "outputs": [],
   "source": [
    "pred_test = []\n",
    "for i in range(len(X_test_TMP_all_s)):\n",
    "  p = model_TMPI([X_test_TMP_all_s[i:i+1,0:-1],np.expand_dims(X_test_TMP_all_s[i:i+1,-1],axis=1),len(Y_test_TMP_all_s[i])],training=False)\n",
    "  try:\n",
    "    pred_test.append(inverse_standardize(np.squeeze(p.numpy()), mean_y,std_y))\n",
    "  except TypeError:\n",
    "    pred_test.append([(np.squeeze(p.numpy())*std_y)+mean_y])"
   ]
  },
  {
   "cell_type": "code",
   "execution_count": 53,
   "metadata": {
    "colab": {
     "base_uri": "https://localhost:8080/"
    },
    "id": "TDzLTJdpyuXn",
    "outputId": "50abdfd9-8afa-4072-8e3f-d2f9e5cc2bc4"
   },
   "outputs": [
    {
     "name": "stdout",
     "output_type": "stream",
     "text": [
      "RMSE:  0.31498390830294337\n",
      "MSE:  0.09921486248979704\n",
      "MAE:  0.25700241045658284\n",
      "EVC:  0.6398819376613802\n",
      "R2:  0.6239937246404503\n"
     ]
    }
   ],
   "source": [
    "evaluate(np.concatenate(Y_test_TMP_all),np.concatenate(pred_test))"
   ]
  },
  {
   "cell_type": "code",
   "execution_count": 54,
   "metadata": {},
   "outputs": [
    {
     "data": {
      "text/plain": [
       "Text(0.5, 0, 'Filtration duration (2 min)')"
      ]
     },
     "execution_count": 54,
     "metadata": {},
     "output_type": "execute_result"
    },
    {
     "data": {
      "image/png": "[encoded data removed]",
      "text/plain": [
       "<Figure size 1152x216 with 5 Axes>"
      ]
     },
     "metadata": {
      "needs_background": "light"
     },
     "output_type": "display_data"
    }
   ],
   "source": [
    "index = np.array([107, 915, 1307, 1358, 1169])\n",
    "\n",
    "i = 0\n",
    "fig, ax = plt.subplots(1,5,figsize=(16,3))\n",
    "for a in ax:\n",
    "#     for aa in a:\n",
    "        n = index[i]\n",
    "        a.plot(Y_test_TMP_all[n],'o-',label='Actual')\n",
    "        a.plot(pred_test[n],'o-',label='Prediction')\n",
    "        a.legend()\n",
    "        a.set_title('MSE %0.3f'%(np.round(mean_squared_error(Y_test_TMP_all[n],pred_test[n],squared=True),decimals=3)))\n",
    "        i += 1\n",
    "ax[0].set_ylabel('TMP') \n",
    "ax[2].set_xlabel('Filtration duration (2 min)')       "
   ]
  },
  {
   "cell_type": "code",
   "execution_count": 55,
   "metadata": {},
   "outputs": [
    {
     "data": {
      "text/plain": [
       "Text(0.5, 0, 'Filtration duration (2 min)')"
      ]
     },
     "execution_count": 55,
     "metadata": {},
     "output_type": "execute_result"
    },
    {
     "data": {
      "image/png": "[encoded data removed]",
      "text/plain": [
       "<Figure size 1152x216 with 5 Axes>"
      ]
     },
     "metadata": {
      "needs_background": "light"
     },
     "output_type": "display_data"
    }
   ],
   "source": [
    "index = np.array([107, 915, 1307, 1358, 1169])\n",
    "\n",
    "i = 0\n",
    "fig, ax = plt.subplots(1,5,figsize=(16,3))\n",
    "for a in ax:\n",
    "#     for aa in a:\n",
    "        n = index[i]\n",
    "        a.plot(Y_test_TMP_all[n],'-',label='Actual')\n",
    "        p = model_TMPI([X_test_TMP_all_s[n:n+1,0:-1],np.expand_dims(X_test_TMP_all_s[n:n+1,-1],axis=1),15],training=False)\n",
    "        p = inverse_standardize(np.squeeze(p.numpy()), mean_y,std_y)\n",
    "        a.plot(p[0:len(Y_test_TMP_all[n])],'-',label='Prediction')\n",
    "        x = range(len(Y_test_TMP_all[n]),len(p))\n",
    "        a.plot(x,p[len(Y_test_TMP_all[n]):],'o',label='Prediction')\n",
    "        a.legend()\n",
    "        i += 1\n",
    "ax[0].set_ylabel('TMP') \n",
    "ax[2].set_xlabel('Filtration duration (2 min)')  "
   ]
  },
  {
   "cell_type": "code",
   "execution_count": 56,
   "metadata": {
    "colab": {
     "base_uri": "https://localhost:8080/",
     "height": 607
    },
    "id": "CVzX3NhXXFvB",
    "outputId": "28a3ee32-e023-41e8-8c71-ad861d2add2c"
   },
   "outputs": [
    {
     "data": {
      "image/png": "[encoded data removed]",
      "text/plain": [
       "<Figure size 1152x720 with 12 Axes>"
      ]
     },
     "metadata": {
      "needs_background": "light"
     },
     "output_type": "display_data"
    }
   ],
   "source": [
    "index = (np.random.rand(12)*len(Y_test_TMP_all)).astype(int)\n",
    "index = np.sort(index)\n",
    "\n",
    "i = 0\n",
    "fig, ax = plt.subplots(3,4,figsize=(16,10))\n",
    "for a in ax:\n",
    "    for aa in a:\n",
    "        n = index[i]\n",
    "        aa.plot(Y_test_TMP_all[n],'-',label='True')\n",
    "        p = model_TMPI([X_test_TMP_all_s[n:n+1,0:-1],np.expand_dims(X_test_TMP_all_s[n:n+1,-1],axis=1),15],training=False)\n",
    "        p = inverse_standardize(np.squeeze(p.numpy()), mean_y,std_y)\n",
    "        aa.plot(p[0:len(Y_test_TMP_all[n])],'-',label='Prediction')\n",
    "        x = range(len(Y_test_TMP_all[n]),len(p))\n",
    "        aa.plot(x,p[len(Y_test_TMP_all[n]):],'o',label='Prediction')\n",
    "        aa.legend()\n",
    "        aa.set_title('Sample %d, MSE %0.3f'%(n,np.round(mean_squared_error(Y_test_TMP_all[n],p[0:len(Y_test_TMP_all[n])],squared=True),decimals=3)))\n",
    "        i += 1"
   ]
  },
  {
   "cell_type": "markdown",
   "metadata": {
    "id": "OX8lLglqo2pN"
   },
   "source": [
    "# The two models"
   ]
  },
  {
   "cell_type": "code",
   "execution_count": 57,
   "metadata": {
    "id": "Oab0W_2LW_Yh"
   },
   "outputs": [],
   "source": [
    "from tsfel import feature_extraction as fe\n",
    "import tsfel"
   ]
  },
  {
   "cell_type": "code",
   "execution_count": 58,
   "metadata": {
    "id": "TjbJPMn3IIZm"
   },
   "outputs": [],
   "source": [
    "def find_domain_features(cycles):\n",
    "    input_tmp_diff = []\n",
    "    output_tmp_diff = []\n",
    "    prev_tmp = [0,0]\n",
    "    prev_auc = 0\n",
    "    auc_diff = []\n",
    "    auc_cycle = []\n",
    "    for cycle in cycles:\n",
    "        e = -1\n",
    "        output_tmp_diff.append(cycle[e] - prev_tmp[1])\n",
    "        input_tmp_diff.append(cycle[0] - prev_tmp[0])\n",
    "        prev_tmp = [cycle[0],cycle[e]]\n",
    "        auc_cycle.append(np.trapz(cycle[0:6]) - prev_auc)\n",
    "        prev_auc = np.trapz(cycle[0:6])\n",
    "\n",
    "    input_tmp_balance = np.cumsum(input_tmp_diff)\n",
    "    output_tmp_balance = np.cumsum(output_tmp_diff)\n",
    "    auc_balance = np.cumsum(auc_cycle)\n",
    "    return input_tmp_balance[-1],output_tmp_balance[-1], auc_balance[-1]"
   ]
  },
  {
   "cell_type": "code",
   "execution_count": 59,
   "metadata": {},
   "outputs": [],
   "source": [
    "def find_ts_features(data_window):\n",
    "  fs=0.0083\n",
    "  spectral_entropy = fe.spectral_entropy(data_window,fs)\n",
    "  rms = fe.rms(data_window)\n",
    "  skewness = fe.skewness(data_window)\n",
    "  mean_diff = fe.mean_diff(data_window)\n",
    "  neg_turning_points = fe.negative_turning(data_window)\n",
    "  auc = fe.auc(data_window,fs)\n",
    "  median = fe.calc_median(data_window)\n",
    "  mean = fe.calc_mean(data_window)\n",
    "  autocorrelation = fe.autocorr(data_window)\n",
    "#   neighbourhood_peaks = fe.neighbourhood_peaks(data_window)\n",
    "  ECDF_percentile = fe.ecdf_percentile(data_window)[0]\n",
    "  wavelet_standard_deviation = fe.wavelet_std(data_window)[0]\n",
    "  wavelet_energy = fe.wavelet_energy(data_window)[0]\n",
    "#   pos_turning_points = fe.positive_turning(data_window)\n",
    "  return spectral_entropy, wavelet_energy, wavelet_standard_deviation, mean, median, auc,mean_diff, neg_turning_points, skewness,ECDF_percentile, rms, autocorrelation "
   ]
  },
  {
   "cell_type": "code",
   "execution_count": 60,
   "metadata": {
    "id": "TsqseeznAMf0"
   },
   "outputs": [],
   "source": [
    "consecutives = data_TS['cycle'].diff().ne(0).cumsum()\n",
    "all_cycles = []\n",
    "for group in data_TS.groupby(consecutives):\n",
    "    all_cycles.append(group[1]['TMP_norm'].values)"
   ]
  },
  {
   "cell_type": "code",
   "execution_count": 61,
   "metadata": {},
   "outputs": [],
   "source": [
    "import warnings\n",
    "warnings.filterwarnings(\"ignore\", category=UserWarning)"
   ]
  },
  {
   "cell_type": "code",
   "execution_count": 62,
   "metadata": {
    "colab": {
     "base_uri": "https://localhost:8080/"
    },
    "id": "a7TSvEjm9hHz",
    "outputId": "7e4cc398-d05b-4244-f8e6-51c79b2361a2"
   },
   "outputs": [
    {
     "name": "stdout",
     "output_type": "stream",
     "text": [
      "1 [-0.43146807]\n",
      "2 [-0.35118735]\n",
      "3 [-0.23173434]\n",
      "4 [-0.08427888]\n",
      "5 [-0.24076271]\n",
      "6 [-0.11463773]\n",
      "7 [-0.06286591]\n",
      "8 [-0.15888453]\n",
      "9 [-0.01740271]\n",
      "10 [0.06142813]\n",
      "11 [-0.10837936]\n",
      "12 [0.03389019]\n",
      "13 [0.03051198]\n",
      "14 [-0.07829076]\n",
      "15 [0.04866403]\n",
      "16 [0.11156392]\n",
      "17 [-0.05187136]\n",
      "18 [0.04020703]\n",
      "19 [0.07933003]\n",
      "20 [-0.06488889]\n",
      "21 [0.0674215]\n",
      "22 [0.11560714]\n",
      "23 [-0.06798613]\n",
      "24 [0.07573819]\n",
      "25 [0.08592802]\n",
      "26 [-0.0932247]\n",
      "27 [0.06452602]\n",
      "28 [0.11329651]\n",
      "29 [-0.06609976]\n",
      "30 [0.03992939]\n",
      "31 [0.04753697]\n",
      "32 [-0.11306727]\n",
      "33 [0.04716563]\n",
      "34 [0.06874424]\n",
      "35 [-0.06149119]\n",
      "36 [0.06465036]\n",
      "37 [0.0503993]\n",
      "38 [-0.05915689]\n",
      "39 [0.06352025]\n",
      "40 [0.12746906]\n",
      "41 [-0.028844]\n",
      "42 [0.05919564]\n",
      "43 [0.06921822]\n",
      "44 [-0.04677248]\n",
      "45 [0.07912689]\n",
      "46 [0.0977633]\n",
      "47 [-0.03120798]\n",
      "48 [0.09510416]\n",
      "49 [0.07211304]\n",
      "50 [-0.04038846]\n",
      "51 [0.09034765]\n",
      "52 [0.13801804]\n",
      "53 [-0.01499528]\n",
      "54 [0.07151496]\n",
      "55 [0.07014805]\n",
      "56 [-0.06445593]\n",
      "57 [0.10293782]\n",
      "58 [0.08817708]\n",
      "59 [-0.02337885]\n",
      "60 [0.08786625]\n",
      "61 [0.10380459]\n",
      "62 [-0.07339698]\n",
      "63 [0.08088696]\n",
      "64 [0.1228708]\n",
      "65 [-0.02891594]\n",
      "66 [0.06448716]\n",
      "67 [0.07538939]\n",
      "68 [-0.04984862]\n",
      "69 [0.0742954]\n",
      "70 [0.09282607]\n",
      "71 [-0.06529236]\n",
      "72 [0.07674187]\n",
      "73 [0.05862927]\n",
      "74 [-0.09258372]\n",
      "75 [0.06217551]\n",
      "76 [0.11906034]\n",
      "77 [-0.06371379]\n",
      "78 [0.05690497]\n",
      "79 [0.09719831]\n",
      "80 [-0.04515392]\n",
      "81 [0.08738655]\n",
      "82 [0.1405752]\n",
      "83 [-0.01025409]\n",
      "84 [0.11270726]\n",
      "85 [0.09343398]\n",
      "86 [-0.06188196]\n",
      "87 [0.09498966]\n",
      "88 [0.13798746]\n",
      "89 [-0.05164397]\n",
      "90 [0.10338056]\n",
      "91 [0.08000946]\n",
      "92 [-0.04023463]\n",
      "93 [0.12671506]\n",
      "94 [0.11669439]\n",
      "95 [-0.03953475]\n",
      "96 [0.10684752]\n",
      "97 [0.08827561]\n",
      "98 [-0.02798659]\n",
      "99 [0.10682768]\n",
      "100 [0.1520252]\n",
      "101 [-0.0430271]\n",
      "102 [0.11913878]\n",
      "103 [0.08923948]\n",
      "104 [-0.0214498]\n",
      "105 [0.13948822]\n",
      "106 [0.12913883]\n",
      "107 [0.01075]\n",
      "108 [0.1309827]\n",
      "109 [0.14157659]\n",
      "110 [-0.04221243]\n",
      "111 [0.12341213]\n",
      "112 [0.16880739]\n",
      "113 [-0.0227955]\n",
      "114 [0.09836555]\n",
      "115 [0.10207289]\n",
      "116 [-0.01517445]\n",
      "117 [0.11536849]\n",
      "118 [0.17443892]\n",
      "119 [-0.02194297]\n",
      "120 [0.13517603]\n",
      "121 [0.11143571]\n",
      "122 [-0.04739016]\n",
      "123 [0.14429146]\n",
      "124 [0.17005277]\n",
      "125 [-0.01825833]\n",
      "126 [0.11151832]\n",
      "127 [0.14747691]\n",
      "128 [-0.00425214]\n",
      "129 [0.1394127]\n",
      "130 [0.15247118]\n",
      "131 [0.02022427]\n",
      "132 [0.1444903]\n",
      "133 [0.1264872]\n",
      "134 [-0.03410071]\n",
      "135 [0.16334441]\n",
      "136 [0.18116122]\n",
      "137 [0.02688259]\n",
      "138 [0.15490472]\n",
      "139 [0.13365069]\n",
      "140 [0.00580633]\n",
      "141 [0.12973481]\n",
      "142 [0.18479356]\n",
      "143 [-0.01175117]\n",
      "144 [0.14380777]\n",
      "145 [0.11922097]\n",
      "146 [-0.00780869]\n",
      "147 [0.1280756]\n",
      "148 [0.17230016]\n",
      "149 [0.01594889]\n",
      "150 [0.11691153]\n",
      "151 [0.12099975]\n",
      "152 [-0.00418633]\n",
      "153 [0.1294632]\n",
      "154 [0.1519427]\n",
      "155 [-0.0196799]\n",
      "156 [0.13758212]\n",
      "157 [0.1501737]\n",
      "158 [-0.03271383]\n",
      "159 [0.13975406]\n",
      "160 [0.18654382]\n",
      "161 [-0.00881636]\n",
      "162 [0.14913234]\n",
      "163 [0.13100809]\n",
      "164 [0.00747746]\n",
      "165 [0.17659795]\n",
      "166 [0.16619533]\n",
      "167 [0.0082047]\n",
      "168 [0.16082945]\n",
      "169 [0.16960627]\n",
      "170 [0.01204902]\n",
      "171 [0.18741149]\n",
      "172 [0.20981693]\n",
      "173 [0.0171814]\n",
      "174 [0.14315182]\n",
      "175 [0.18271711]\n",
      "176 [0.02212906]\n",
      "177 [0.16132796]\n",
      "178 [0.18322569]\n",
      "179 [0.05238724]\n",
      "180 [0.1778116]\n",
      "181 [0.16922885]\n",
      "182 [0.03132594]\n",
      "183 [0.1687805]\n",
      "184 [0.21603307]\n",
      "185 [0.02173132]\n",
      "186 [0.18675983]\n",
      "187 [0.19711885]\n",
      "188 [0.03955209]\n",
      "189 [0.21320432]\n",
      "190 [0.20069477]\n",
      "191 [0.0689165]\n",
      "192 [0.19440359]\n",
      "193 [0.18153343]\n",
      "194 [0.04224128]\n",
      "195 [0.17855573]\n",
      "196 [0.22888747]\n",
      "197 [0.03193003]\n",
      "198 [0.15746114]\n",
      "199 [0.19967228]\n",
      "200 [0.03951496]\n",
      "201 [0.17812458]\n",
      "202 [0.22751513]\n",
      "203 [0.0351727]\n",
      "204 [0.19404763]\n",
      "205 [0.17620337]\n",
      "206 [0.04447484]\n",
      "207 [0.18325311]\n",
      "208 [0.2376169]\n",
      "209 [0.06832165]\n",
      "210 [0.16909888]\n",
      "211 [0.18696916]\n",
      "212 [0.03507197]\n",
      "213 [0.22527847]\n",
      "214 [0.21649453]\n",
      "215 [0.04589587]\n",
      "216 [0.19554651]\n",
      "217 [0.18351129]\n",
      "218 [0.01605904]\n",
      "219 [0.18409225]\n",
      "220 [0.23381838]\n",
      "221 [0.03255129]\n",
      "222 [0.16898745]\n",
      "223 [0.21169156]\n",
      "224 [0.04763722]\n",
      "225 [0.19098845]\n",
      "226 [0.20905301]\n",
      "227 [0.0389334]\n",
      "228 [0.20432767]\n",
      "229 [0.1891807]\n",
      "230 [0.0546369]\n",
      "231 [0.1934906]\n",
      "232 [0.248371]\n",
      "233 [0.08284163]\n",
      "234 [0.18344301]\n",
      "235 [0.19714847]\n",
      "236 [0.05602258]\n",
      "237 [0.19453594]\n",
      "238 [0.25743973]\n",
      "239 [0.04811883]\n",
      "240 [0.21631607]\n",
      "241 [0.232229]\n",
      "242 [0.05177367]\n",
      "243 [-0.19291216]\n",
      "244 [0.01057822]\n",
      "245 [0.21080476]\n",
      "246 [-0.0004369]\n",
      "247 [0.14144358]\n",
      "248 [0.1602517]\n",
      "249 [0.02367312]\n",
      "250 [0.16965136]\n",
      "251 [0.19864622]\n",
      "252 [0.06486523]\n",
      "253 [0.1930421]\n",
      "254 [0.18172288]\n",
      "255 [0.05703533]\n",
      "256 [0.19535536]\n",
      "257 [0.24870339]\n",
      "258 [0.05390459]\n",
      "259 [0.21354595]\n",
      "260 [0.18868974]\n",
      "261 [0.06615496]\n",
      "262 [0.2391504]\n",
      "263 [0.2391761]\n",
      "264 [0.1013667]\n",
      "265 [0.2234352]\n",
      "266 [0.24830657]\n",
      "267 [0.04224843]\n",
      "268 [0.21237788]\n",
      "269 [0.25679442]\n",
      "270 [0.0656684]\n",
      "271 [0.22374073]\n",
      "272 [0.20455644]\n",
      "273 [0.07634568]\n",
      "274 [0.21333548]\n",
      "275 [0.27365127]\n",
      "276 [0.08415741]\n",
      "277 [0.22706413]\n",
      "278 [0.25421274]\n",
      "279 [0.08510101]\n",
      "280 [0.2687089]\n",
      "281 [0.2877599]\n",
      "282 [0.13369107]\n",
      "283 [0.2174471]\n",
      "284 [0.23615322]\n",
      "285 [0.10148501]\n",
      "286 [0.27224976]\n",
      "287 [0.2674465]\n",
      "288 [0.10120881]\n",
      "289 [0.2464445]\n",
      "290 [0.23334071]\n",
      "291 [0.10544759]\n",
      "292 [0.24396718]\n",
      "293 [0.2917196]\n",
      "294 [0.13353574]\n",
      "295 [0.2243821]\n",
      "296 [0.24420568]\n",
      "297 [0.10628772]\n",
      "298 [0.23831418]\n",
      "299 [0.2955683]\n",
      "300 [0.10094589]\n",
      "301 [0.25513354]\n",
      "302 [0.27747318]\n",
      "303 [0.07618219]\n",
      "304 [0.23914239]\n",
      "305 [0.2929661]\n",
      "306 [0.1315108]\n",
      "307 [0.22747219]\n",
      "308 [0.25514948]\n",
      "309 [0.11265135]\n",
      "310 [0.24566978]\n",
      "311 [0.2950591]\n",
      "312 [0.10871392]\n",
      "313 [0.2622807]\n",
      "314 [0.2480864]\n",
      "315 [0.67023396]\n",
      "316 [0.49101636]\n",
      "317 [0.29175192]\n",
      "318 [0.35165325]\n",
      "319 [0.36964938]\n",
      "320 [0.12077045]\n",
      "321 [0.26831424]\n",
      "322 [0.3208423]\n",
      "323 [0.1421004]\n",
      "324 [0.3256743]\n",
      "325 [0.2915228]\n",
      "326 [0.08697081]\n",
      "327 [0.31810158]\n",
      "328 [0.36030835]\n",
      "329 [0.12715876]\n",
      "330 [0.27212465]\n",
      "331 [0.28563544]\n",
      "332 [0.07441598]\n",
      "333 [0.3089412]\n",
      "334 [0.31687307]\n",
      "335 [0.1143235]\n",
      "336 [0.26448596]\n",
      "337 [0.24627143]\n",
      "338 [0.12578827]\n",
      "339 [0.31919536]\n",
      "340 [0.36786082]\n",
      "341 [0.13488895]\n",
      "342 [0.28316405]\n",
      "343 [0.29526943]\n",
      "344 [0.14405623]\n",
      "345 [0.29836014]\n",
      "346 [0.34348577]\n",
      "347 [0.13325289]\n",
      "348 [0.34130442]\n",
      "349 [0.3106346]\n",
      "350 [0.11863196]\n",
      "351 [0.33595902]\n",
      "352 [0.37725192]\n",
      "353 [0.14799121]\n",
      "354 [0.291687]\n",
      "355 [0.34302548]\n",
      "356 [0.11439502]\n",
      "357 [0.30543664]\n",
      "358 [0.37989345]\n",
      "359 [0.14558229]\n",
      "360 [0.3211525]\n",
      "361 [0.31855127]\n",
      "362 [0.12057596]\n",
      "363 [0.34165204]\n",
      "364 [0.39353448]\n",
      "365 [0.16014028]\n",
      "366 [0.30332237]\n",
      "367 [0.31973097]\n",
      "368 [0.12058955]\n",
      "369 [0.27883244]\n",
      "370 [0.35457525]\n",
      "371 [0.2083936]\n",
      "372 [0.33853233]\n",
      "373 [0.3369822]\n",
      "374 [0.1441018]\n",
      "375 [0.29599792]\n",
      "376 [0.3945716]\n",
      "377 [0.18841106]\n",
      "378 [0.34332424]\n",
      "379 [0.3651574]\n",
      "380 [0.17589393]\n",
      "381 [0.30244535]\n",
      "382 [0.37800238]\n",
      "383 [0.19495958]\n",
      "384 [0.34600052]\n",
      "385 [0.34041527]\n",
      "386 [0.1453389]\n",
      "387 [0.36007115]\n",
      "388 [0.40642112]\n",
      "389 [0.25326282]\n",
      "390 [0.3611635]\n",
      "391 [0.37207815]\n",
      "392 [0.16377237]\n",
      "393 [0.33713737]\n",
      "394 [0.40776724]\n",
      "395 [0.24934372]\n",
      "396 [0.3661551]\n",
      "397 [0.34296155]\n",
      "398 [0.1308276]\n",
      "399 [0.3313585]\n",
      "400 [0.40694797]\n",
      "401 [0.28945538]\n",
      "402 [0.34017086]\n",
      "403 [0.3703959]\n",
      "404 [0.16717535]\n",
      "405 [0.377865]\n",
      "406 [0.42479992]\n",
      "407 [0.27250555]\n",
      "408 [0.3860801]\n",
      "409 [0.35853863]\n",
      "410 [0.14143422]\n",
      "411 [0.37407383]\n",
      "412 [0.40183377]\n",
      "413 [0.2298753]\n",
      "414 [0.3789458]\n",
      "415 [0.37362266]\n",
      "416 [0.17664829]\n",
      "417 [0.35385275]\n",
      "418 [0.43625206]\n",
      "419 [0.23778188]\n",
      "420 [0.3085085]\n",
      "421 [0.36435145]\n",
      "422 [0.13941213]\n",
      "423 [0.3427876]\n",
      "424 [0.39624017]\n",
      "425 [0.2605899]\n",
      "426 [0.31509247]\n",
      "427 [0.37026513]\n",
      "428 [0.16101879]\n",
      "429 [0.34866992]\n",
      "430 [0.3763036]\n",
      "431 [0.26837197]\n",
      "432 [0.3433195]\n",
      "433 [0.37781182]\n",
      "434 [0.14413235]\n",
      "435 [0.35299128]\n",
      "436 [0.4048465]\n",
      "437 [0.208341]\n",
      "438 [0.3083342]\n",
      "439 [0.3613267]\n",
      "440 [0.17044112]\n",
      "441 [0.3237833]\n",
      "442 [0.35237864]\n",
      "443 [0.23451021]\n",
      "444 [0.34211805]\n",
      "445 [0.3790707]\n",
      "446 [0.14238027]\n",
      "447 [0.3540911]\n",
      "448 [0.43264347]\n",
      "449 [0.2697041]\n",
      "450 [0.39405835]\n",
      "451 [0.42759612]\n",
      "452 [0.20859927]\n",
      "453 [0.38615042]\n",
      "454 [0.43419397]\n",
      "455 [0.2672275]\n",
      "456 [0.36321393]\n",
      "457 [0.39574945]\n",
      "458 [0.19505793]\n",
      "459 [0.40507615]\n",
      "460 [0.43499237]\n",
      "461 [0.23475465]\n",
      "462 [0.3970978]\n",
      "463 [0.39973974]\n",
      "464 [0.18843254]\n",
      "465 [0.37099]\n",
      "466 [0.42891747]\n",
      "467 [0.2550145]\n",
      "468 [0.3256616]\n",
      "469 [0.38820952]\n",
      "470 [0.19147131]\n",
      "471 [0.41201353]\n",
      "472 [0.41933864]\n",
      "473 [0.2732218]\n",
      "474 [0.3351983]\n",
      "475 [0.39483535]\n",
      "476 [0.20140597]\n",
      "477 [0.3810993]\n",
      "478 [0.414967]\n",
      "479 [0.30951917]\n",
      "480 [0.3800518]\n",
      "481 [0.4126121]\n",
      "482 [0.21553507]\n",
      "483 [0.38955468]\n",
      "484 [0.42206013]\n",
      "485 [0.27496523]\n",
      "486 [0.34069073]\n",
      "487 [0.43296227]\n",
      "488 [0.22094995]\n",
      "489 [0.36719665]\n",
      "490 [0.45837766]\n",
      "491 [0.27850804]\n",
      "492 [0.38431817]\n"
     ]
    },
    {
     "name": "stdout",
     "output_type": "stream",
     "text": [
      "493 [0.4116025]\n",
      "494 [0.2239697]\n",
      "495 [0.46457392]\n",
      "496 [0.49388567]\n",
      "497 [0.3421126]\n",
      "498 [0.41182107]\n",
      "499 [0.44004527]\n",
      "500 [0.24703279]\n",
      "501 [0.4105292]\n",
      "502 [0.4507314]\n",
      "503 [0.26302803]\n",
      "504 [0.4188346]\n",
      "505 [0.42904115]\n",
      "506 [0.31739792]\n",
      "507 [0.4275427]\n",
      "508 [0.49117893]\n",
      "509 [0.36187568]\n",
      "510 [0.38287234]\n",
      "511 [0.47105616]\n",
      "512 [0.24908382]\n",
      "513 [0.4199372]\n",
      "514 [0.45136335]\n",
      "515 [0.30267036]\n",
      "516 [0.39902622]\n",
      "517 [0.43451816]\n",
      "518 [0.28469077]\n",
      "519 [0.4910954]\n",
      "520 [0.5155185]\n",
      "521 [0.3651311]\n",
      "522 [0.48370615]\n",
      "523 [0.46850267]\n",
      "524 [0.27752388]\n",
      "525 [0.43775225]\n",
      "526 [0.5205331]\n",
      "527 [0.32524204]\n",
      "528 [0.4471741]\n",
      "529 [0.4861669]\n",
      "530 [0.2323896]\n",
      "531 [0.4594366]\n",
      "532 [0.4727534]\n",
      "533 [0.33740485]\n",
      "534 [0.44393465]\n",
      "535 [0.48381692]\n",
      "536 [0.35116497]\n",
      "537 [0.4544723]\n",
      "538 [0.46521324]\n",
      "539 [0.27552387]\n",
      "540 [0.40426028]\n",
      "541 [0.43451872]\n",
      "542 [0.2570938]\n",
      "543 [0.4272595]\n",
      "544 [0.42455855]\n",
      "545 [0.29916072]\n",
      "546 [0.42796177]\n",
      "547 [0.4728431]\n",
      "548 [0.27685404]\n",
      "549 [0.44864994]\n",
      "550 [0.5072316]\n",
      "551 [0.33150014]\n",
      "552 [0.44903743]\n",
      "553 [0.45651782]\n",
      "554 [0.28129056]\n",
      "555 [0.4439237]\n",
      "556 [0.53866357]\n",
      "557 [0.3696008]\n",
      "558 [0.44144362]\n",
      "559 [0.509219]\n",
      "560 [0.32801357]\n",
      "561 [0.41990706]\n",
      "562 [0.46180418]\n",
      "563 [0.33146915]\n",
      "564 [0.39011776]\n",
      "565 [0.4887555]\n",
      "566 [0.27906758]\n",
      "567 [0.48783016]\n",
      "568 [0.5404414]\n",
      "569 [0.3960998]\n",
      "570 [0.45746407]\n",
      "571 [0.49487585]\n",
      "572 [0.2999157]\n",
      "573 [0.45653975]\n",
      "574 [0.51622504]\n",
      "575 [0.3516695]\n",
      "576 [0.4376362]\n",
      "577 [0.4792969]\n",
      "578 [0.2610657]\n",
      "579 [0.4854348]\n",
      "580 [0.5011422]\n",
      "581 [0.37237954]\n",
      "582 [0.45610315]\n",
      "583 [0.45420954]\n",
      "584 [0.3238017]\n",
      "585 [0.50086117]\n",
      "586 [0.53460294]\n",
      "587 [0.36787122]\n",
      "588 [0.4768235]\n",
      "589 [0.49898434]\n",
      "590 [0.3554699]\n",
      "591 [0.49272802]\n",
      "592 [0.52677244]\n",
      "593 [0.34139842]\n",
      "594 [0.43297142]\n",
      "595 [0.448874]\n",
      "596 [0.30210122]\n",
      "597 [0.49973923]\n",
      "598 [0.5458216]\n",
      "599 [0.35040274]\n",
      "600 [0.46033436]\n",
      "601 [0.4980402]\n",
      "602 [0.35096702]\n",
      "603 [0.5204085]\n",
      "604 [0.5778784]\n",
      "605 [0.35467097]\n",
      "606 [0.4606207]\n",
      "607 [0.49893212]\n",
      "608 [0.34616598]\n",
      "609 [0.4879024]\n",
      "610 [0.55428994]\n",
      "611 [0.39103675]\n",
      "612 [0.45094496]\n",
      "613 [0.5083648]\n",
      "614 [0.326961]\n",
      "615 [0.5162796]\n",
      "616 [0.55786216]\n",
      "617 [0.36115316]\n",
      "618 [0.46667215]\n",
      "619 [0.5354521]\n",
      "620 [0.3306925]\n",
      "621 [0.49253944]\n",
      "622 [0.5113749]\n",
      "623 [0.33761007]\n",
      "624 [0.4851017]\n",
      "625 [0.50381315]\n",
      "626 [0.36778983]\n",
      "627 [0.5051258]\n",
      "628 [0.57066506]\n",
      "629 [0.33139655]\n",
      "630 [0.43859565]\n",
      "631 [0.5036418]\n",
      "632 [0.36127877]\n",
      "633 [0.52359784]\n",
      "634 [0.5736951]\n",
      "635 [0.40749288]\n",
      "636 [0.5160496]\n",
      "637 [0.50962496]\n",
      "638 [0.35513404]\n",
      "639 [0.50764394]\n",
      "640 [0.5750613]\n",
      "641 [0.40975243]\n",
      "642 [0.47037843]\n",
      "643 [0.53102666]\n",
      "644 [0.31384698]\n",
      "645 [0.4912433]\n",
      "646 [0.5184012]\n",
      "647 [0.36695817]\n",
      "648 [0.50068533]\n",
      "649 [0.4977274]\n",
      "650 [0.34726644]\n",
      "651 [0.4789971]\n",
      "652 [0.54653203]\n",
      "653 [0.34975496]\n",
      "654 [0.47248298]\n",
      "655 [0.47127062]\n",
      "656 [0.32827532]\n",
      "657 [0.49725956]\n",
      "658 [0.55506986]\n",
      "659 [0.3685874]\n",
      "660 [0.5027077]\n",
      "661 [0.48057815]\n",
      "662 [0.35552973]\n",
      "663 [0.48513094]\n",
      "664 [0.57412225]\n",
      "665 [0.3533915]\n",
      "666 [0.51471007]\n",
      "667 [0.5044221]\n",
      "668 [0.39131016]\n",
      "669 [0.54899335]\n",
      "670 [0.6013476]\n",
      "671 [0.40578747]\n",
      "672 [0.5033057]\n",
      "673 [0.49994212]\n",
      "674 [0.36879984]\n",
      "675 [0.52613896]\n",
      "676 [0.59630567]\n",
      "677 [0.41207054]\n",
      "678 [0.5395713]\n",
      "679 [0.54029006]\n",
      "680 [0.37788105]\n",
      "681 [0.53305095]\n",
      "682 [0.597021]\n",
      "683 [0.40404543]\n",
      "684 [0.5324312]\n",
      "685 [0.53464437]\n",
      "686 [0.3781518]\n",
      "687 [0.5367294]\n",
      "688 [0.6007042]\n",
      "689 [0.40625775]\n",
      "690 [0.5055826]\n",
      "691 [0.55416405]\n",
      "692 [0.40982288]\n",
      "693 [0.5206182]\n",
      "694 [0.583805]\n",
      "695 [0.40233254]\n",
      "696 [0.54353225]\n",
      "697 [0.61072963]\n",
      "698 [0.4232027]\n",
      "699 [0.5852616]\n",
      "700 [0.64869326]\n",
      "701 [0.44331104]\n",
      "702 [0.4888122]\n",
      "703 [0.4994222]\n",
      "704 [0.3957991]\n",
      "705 [0.52075005]\n",
      "706 [0.5994137]\n",
      "707 [0.44500038]\n",
      "708 [0.52295095]\n",
      "709 [0.5256871]\n",
      "710 [0.42030698]\n",
      "711 [0.56199247]\n",
      "712 [0.6454742]\n",
      "713 [0.43417883]\n",
      "714 [0.5359781]\n",
      "715 [0.5859309]\n",
      "716 [0.45273805]\n",
      "717 [0.55279607]\n",
      "718 [0.65258354]\n",
      "719 [0.46797353]\n",
      "720 [0.5259529]\n",
      "721 [0.53339255]\n",
      "722 [0.44355813]\n",
      "723 [0.5524605]\n",
      "724 [0.6157084]\n",
      "725 [0.44043905]\n",
      "726 [0.49929762]\n",
      "727 [0.5806479]\n",
      "728 [0.50004864]\n",
      "729 [0.5689999]\n",
      "730 [0.62440395]\n",
      "731 [0.4465071]\n",
      "732 [0.5343298]\n",
      "733 [0.59460676]\n",
      "734 [0.47604454]\n",
      "735 [0.5946129]\n",
      "736 [0.63026184]\n",
      "737 [0.46225336]\n",
      "738 [0.54449546]\n",
      "739 [0.5729014]\n",
      "740 [0.48897848]\n",
      "741 [0.58359754]\n",
      "742 [0.63452667]\n",
      "743 [0.45748082]\n",
      "744 [0.5360071]\n",
      "745 [0.6015175]\n",
      "746 [0.45610294]\n",
      "747 [0.58250993]\n",
      "748 [0.6003577]\n",
      "749 [0.4838534]\n",
      "750 [0.55438745]\n",
      "751 [0.57491446]\n",
      "752 [0.48746043]\n",
      "753 [0.5624807]\n",
      "754 [0.60538983]\n",
      "755 [0.45009184]\n",
      "756 [0.49990106]\n",
      "757 [0.5248165]\n",
      "758 [1.0357791]\n",
      "759 [0.5370891]\n",
      "760 [0.6255529]\n",
      "761 [0.5951986]\n",
      "762 [0.5204951]\n",
      "763 [0.60047716]\n",
      "764 [0.6682215]\n",
      "765 [0.5357739]\n",
      "766 [0.5591769]\n",
      "767 [0.5487622]\n",
      "768 [0.4342072]\n",
      "769 [0.59796524]\n",
      "770 [0.69986296]\n",
      "771 [0.548162]\n",
      "772 [0.57803243]\n",
      "773 [0.59028137]\n",
      "774 [0.49085295]\n",
      "775 [0.5961699]\n",
      "776 [0.663142]\n",
      "777 [0.51697844]\n",
      "778 [0.5637513]\n",
      "779 [0.5560372]\n",
      "780 [0.44804603]\n",
      "781 [0.57960075]\n",
      "782 [0.6883595]\n",
      "783 [0.5117269]\n",
      "784 [0.5770927]\n",
      "785 [0.59081835]\n",
      "786 [0.49114686]\n",
      "787 [0.6000932]\n",
      "788 [0.67432755]\n",
      "789 [0.5268945]\n",
      "790 [0.5816321]\n",
      "791 [0.5962398]\n",
      "792 [0.46275514]\n",
      "793 [0.5867509]\n",
      "794 [0.67169565]\n",
      "795 [0.4925542]\n",
      "796 [0.57410496]\n",
      "797 [0.65297055]\n",
      "798 [0.499942]\n",
      "799 [0.6050744]\n",
      "800 [0.6805337]\n",
      "801 [0.5621568]\n",
      "802 [0.5706446]\n",
      "803 [0.573777]\n",
      "804 [0.5006458]\n",
      "805 [0.59039134]\n",
      "806 [0.71099705]\n",
      "807 [0.5344466]\n",
      "808 [0.5782115]\n",
      "809 [0.6269627]\n",
      "810 [0.5144878]\n",
      "811 [0.5962594]\n",
      "812 [0.65985656]\n",
      "813 [0.5366368]\n",
      "814 [0.5877451]\n",
      "815 [0.6311255]\n",
      "816 [0.5206024]\n",
      "817 [0.61618173]\n",
      "818 [0.63654655]\n",
      "819 [0.52680135]\n",
      "820 [0.55419046]\n",
      "821 [0.5959649]\n",
      "822 [0.50202245]\n",
      "823 [0.6194996]\n",
      "824 [0.68926996]\n",
      "825 [0.5510972]\n",
      "826 [0.5990904]\n",
      "827 [0.61315084]\n",
      "828 [0.5121724]\n",
      "829 [0.6134791]\n",
      "830 [0.6550535]\n",
      "831 [0.5139269]\n",
      "832 [0.58986837]\n",
      "833 [0.66514724]\n",
      "834 [0.52075535]\n",
      "835 [0.6130612]\n",
      "836 [0.6632212]\n",
      "837 [0.5801731]\n",
      "838 [0.5829065]\n",
      "839 [0.605093]\n",
      "840 [0.5138114]\n",
      "841 [0.599566]\n",
      "842 [0.69745386]\n",
      "843 [0.6217095]\n",
      "844 [0.60071754]\n",
      "845 [0.6838001]\n",
      "846 [0.5053878]\n",
      "847 [0.61784726]\n",
      "848 [0.6664599]\n",
      "849 [0.63331157]\n",
      "850 [0.6007932]\n",
      "851 [0.62975514]\n",
      "852 [0.54474545]\n",
      "853 [0.6279559]\n",
      "854 [0.67408013]\n",
      "855 [0.5655255]\n",
      "856 [0.584514]\n",
      "857 [0.61924756]\n",
      "858 [0.52538794]\n",
      "859 [0.647509]\n",
      "860 [0.68249124]\n",
      "861 [0.57699734]\n",
      "862 [0.6089668]\n",
      "863 [0.64067924]\n",
      "864 [0.51602155]\n",
      "865 [0.606227]\n",
      "866 [0.65528446]\n",
      "867 [0.5584109]\n",
      "868 [0.57754797]\n",
      "869 [0.63158655]\n",
      "870 [0.5324299]\n",
      "871 [0.64920115]\n",
      "872 [0.6666025]\n",
      "873 [0.5449759]\n",
      "874 [0.61848724]\n",
      "875 [0.6569374]\n",
      "876 [0.5211942]\n",
      "877 [0.6655896]\n",
      "878 [0.7658665]\n",
      "879 [0.63674164]\n",
      "880 [0.6437245]\n",
      "881 [0.65899867]\n",
      "882 [0.6117937]\n",
      "883 [0.70853895]\n",
      "884 [0.69111073]\n",
      "885 [0.60507905]\n",
      "886 [0.6549297]\n",
      "887 [0.65838444]\n",
      "888 [0.5383163]\n",
      "889 [0.7031338]\n",
      "890 [0.7503303]\n",
      "891 [0.61225116]\n",
      "892 [0.6508111]\n",
      "893 [0.6763756]\n",
      "894 [0.58543044]\n",
      "895 [0.681373]\n",
      "896 [0.7002652]\n",
      "897 [0.645213]\n",
      "898 [0.6806267]\n",
      "899 [0.69466764]\n",
      "900 [0.555257]\n",
      "901 [0.7087778]\n",
      "902 [0.7576472]\n",
      "903 [0.62511337]\n",
      "904 [0.6467228]\n",
      "905 [0.69423586]\n",
      "906 [0.62780374]\n",
      "907 [0.72129095]\n",
      "908 [0.7378447]\n",
      "909 [0.6279647]\n",
      "910 [0.69070554]\n",
      "911 [0.6788318]\n",
      "912 [0.6366051]\n",
      "913 [0.7451295]\n",
      "914 [0.74246544]\n",
      "915 [0.6328622]\n",
      "916 [0.665012]\n",
      "917 [0.67960024]\n",
      "918 [0.5955006]\n",
      "919 [0.7220461]\n",
      "920 [0.7597521]\n",
      "921 [0.58674127]\n",
      "922 [0.6774204]\n",
      "923 [0.678314]\n",
      "924 [0.56499517]\n",
      "925 [0.7178563]\n",
      "926 [0.73667437]\n",
      "927 [0.6308665]\n",
      "928 [0.6670886]\n",
      "929 [0.7028537]\n",
      "930 [0.61204773]\n",
      "931 [0.7340957]\n",
      "932 [0.7438626]\n",
      "933 [0.63558346]\n",
      "934 [0.704081]\n",
      "935 [0.71446383]\n",
      "936 [0.5846122]\n",
      "937 [0.72214246]\n",
      "938 [0.7464432]\n",
      "939 [0.6421164]\n",
      "940 [0.67953444]\n",
      "941 [0.6899314]\n",
      "942 [0.6161882]\n",
      "943 [0.7214165]\n",
      "944 [0.7750343]\n",
      "945 [0.6511006]\n",
      "946 [0.6879249]\n",
      "947 [0.71461284]\n",
      "948 [0.5824666]\n",
      "949 [0.7324413]\n",
      "950 [0.7809469]\n",
      "951 [0.6874686]\n",
      "952 [0.6977631]\n",
      "953 [0.6743251]\n",
      "954 [0.6130147]\n",
      "955 [0.7265477]\n",
      "956 [0.7482867]\n",
      "957 [0.6493494]\n",
      "958 [0.69440883]\n",
      "959 [0.7220217]\n",
      "960 [0.62550235]\n",
      "961 [0.7461039]\n",
      "962 [0.79279244]\n",
      "963 [0.65969497]\n",
      "964 [0.71844316]\n",
      "965 [0.67659545]\n",
      "966 [0.6250775]\n",
      "967 [0.7420367]\n",
      "968 [0.7639515]\n",
      "969 [0.73182005]\n",
      "970 [0.7149657]\n",
      "971 [0.69299644]\n",
      "972 [0.63680506]\n",
      "973 [0.74902844]\n",
      "974 [0.7686503]\n",
      "975 [0.6658228]\n",
      "976 [0.70824105]\n",
      "977 [0.6876021]\n",
      "978 [0.6305849]\n",
      "979 [0.74408966]\n",
      "980 [0.7461679]\n",
      "981 [0.6321545]\n",
      "982 [0.7163954]\n",
      "983 [0.6874965]\n",
      "984 [0.63901055]\n",
      "985 [0.772316]\n",
      "986 [0.7539269]\n",
      "987 [0.6606324]\n",
      "988 [0.7136207]\n",
      "989 [0.71303546]\n",
      "990 [0.6755739]\n"
     ]
    },
    {
     "name": "stdout",
     "output_type": "stream",
     "text": [
      "991 [0.7620432]\n",
      "992 [0.7708086]\n",
      "993 [0.6410638]\n",
      "994 [0.7543516]\n",
      "995 [0.72182137]\n",
      "996 [0.6071317]\n",
      "997 [0.7736605]\n",
      "998 [0.8080637]\n",
      "999 [0.6779415]\n",
      "1000 [0.7321249]\n",
      "1001 [0.7179127]\n",
      "1002 [0.6446414]\n",
      "1003 [0.7784975]\n",
      "1004 [0.7320735]\n",
      "1005 [1.1797236]\n",
      "1006 [0.7561259]\n",
      "1007 [0.77646375]\n",
      "1008 [0.767066]\n",
      "1009 [0.64507884]\n",
      "1010 [0.77571887]\n",
      "1011 [0.7626782]\n",
      "1012 [0.6589431]\n",
      "1013 [0.71259254]\n",
      "1014 [0.6780915]\n",
      "1015 [0.57669914]\n",
      "1016 [0.7656989]\n",
      "1017 [0.7620233]\n",
      "1018 [0.6932711]\n",
      "1019 [0.72581893]\n",
      "1020 [0.6930512]\n",
      "1021 [0.6277615]\n",
      "1022 [0.7424105]\n",
      "1023 [0.796983]\n",
      "1024 [0.69930553]\n",
      "1025 [0.72595733]\n",
      "1026 [0.7226465]\n",
      "1027 [0.6342117]\n",
      "1028 [0.75170666]\n",
      "1029 [0.8052795]\n",
      "1030 [0.67737067]\n",
      "1031 [0.7432328]\n",
      "1032 [0.75010806]\n",
      "1033 [0.6904669]\n",
      "1034 [0.79854715]\n",
      "1035 [0.78312457]\n",
      "1036 [0.67745155]\n",
      "1037 [0.7284882]\n",
      "1038 [0.75700796]\n",
      "1039 [0.68204]\n",
      "1040 [0.79428387]\n",
      "1041 [0.8420569]\n",
      "1042 [0.7254214]\n",
      "1043 [0.7872121]\n",
      "1044 [0.7507313]\n",
      "1045 [0.7012441]\n",
      "1046 [0.7774211]\n",
      "1047 [0.7896904]\n",
      "1048 [0.6815163]\n",
      "1049 [0.7910531]\n",
      "1050 [0.74655217]\n",
      "1051 [0.6339819]\n",
      "1052 [0.7979116]\n",
      "1053 [0.8275911]\n",
      "1054 [0.73165244]\n",
      "1055 [0.77037233]\n",
      "1056 [0.7692438]\n",
      "1057 [0.7015367]\n",
      "1058 [0.80469745]\n",
      "1059 [0.8286935]\n",
      "1060 [0.69685864]\n",
      "1061 [0.8086413]\n",
      "1062 [0.8034486]\n",
      "1063 [0.7142696]\n",
      "1064 [0.8369504]\n",
      "1065 [0.8432687]\n",
      "1066 [0.73852515]\n",
      "1067 [0.7777657]\n",
      "1068 [0.777994]\n",
      "1069 [0.6688275]\n",
      "1070 [0.80153203]\n",
      "1071 [0.85323167]\n",
      "1072 [0.7340684]\n",
      "1073 [0.8076264]\n",
      "1074 [0.7872933]\n",
      "1075 [0.6747693]\n",
      "1076 [0.82897204]\n",
      "1077 [0.8426181]\n",
      "1078 [0.78059065]\n",
      "1079 [0.8049962]\n",
      "1080 [0.7926878]\n",
      "1081 [0.72212124]\n",
      "1082 [0.8206044]\n",
      "1083 [0.84712416]\n",
      "1084 [0.74511933]\n",
      "1085 [0.787261]\n",
      "1086 [0.73949844]\n",
      "1087 [0.6725472]\n",
      "1088 [0.80882853]\n",
      "1089 [0.86968076]\n",
      "1090 [0.70930403]\n",
      "1091 [0.8102838]\n",
      "1092 [0.79736334]\n",
      "1093 [0.73354256]\n",
      "1094 [0.83917266]\n",
      "1095 [0.86376655]\n",
      "1096 [0.71790284]\n",
      "1097 [0.8233338]\n",
      "1098 [0.7518089]\n",
      "1099 [0.6902176]\n",
      "1100 [0.8308634]\n",
      "1101 [0.85801667]\n",
      "1102 [0.7226861]\n",
      "1103 [0.8035576]\n",
      "1104 [0.77727115]\n",
      "1105 [0.72231156]\n",
      "1106 [0.8612]\n",
      "1107 [0.83197343]\n",
      "1108 [0.7267844]\n",
      "1109 [0.819572]\n",
      "1110 [0.7790382]\n",
      "1111 [0.70176435]\n",
      "1112 [0.8401897]\n",
      "1113 [0.8706393]\n",
      "1114 [0.7653142]\n",
      "1115 [0.8385888]\n",
      "1116 [0.76247185]\n",
      "1117 [0.70039463]\n",
      "1118 [0.7875888]\n",
      "1119 [0.8363887]\n",
      "1120 [0.758528]\n",
      "1121 [0.8095049]\n",
      "1122 [0.78325826]\n",
      "1123 [0.6993954]\n",
      "1124 [0.8457361]\n",
      "1125 [0.86799103]\n",
      "1126 [0.73763037]\n",
      "1127 [0.8149135]\n",
      "1128 [0.78690124]\n",
      "1129 [0.74575245]\n",
      "1130 [0.8560208]\n",
      "1131 [0.88396585]\n",
      "1132 [0.71826994]\n",
      "1133 [0.8429882]\n",
      "1134 [0.7604243]\n",
      "1135 [0.7429972]\n",
      "1136 [0.816795]\n",
      "1137 [0.89693993]\n",
      "1138 [0.7746306]\n",
      "1139 [0.84896106]\n",
      "1140 [0.77497673]\n",
      "1141 [0.71360314]\n",
      "1142 [0.8403155]\n",
      "1143 [0.84743655]\n",
      "1144 [0.7412898]\n",
      "1145 [0.83051836]\n",
      "1146 [0.7964232]\n",
      "1147 [0.75295043]\n",
      "1148 [0.88011533]\n",
      "1149 [0.90646946]\n",
      "1150 [0.75478166]\n",
      "1151 [0.8256221]\n",
      "1152 [0.77563125]\n",
      "1153 [0.7455138]\n",
      "1154 [0.8192964]\n",
      "1155 [0.8766135]\n",
      "1156 [0.71391565]\n",
      "1157 [0.8343898]\n",
      "1158 [0.7910873]\n",
      "1159 [0.6851304]\n",
      "1160 [0.86950123]\n",
      "1161 [0.88281024]\n",
      "1162 [0.7527566]\n",
      "1163 [0.8481557]\n",
      "1164 [0.8072543]\n",
      "1165 [0.731818]\n",
      "1166 [0.8680037]\n",
      "1167 [0.89096457]\n",
      "1168 [0.7382239]\n",
      "1169 [0.8264591]\n",
      "1170 [0.83514494]\n",
      "1171 [0.7186404]\n",
      "1172 [0.89101124]\n",
      "1173 [0.9249141]\n",
      "1174 [0.74670166]\n",
      "1175 [0.8451851]\n",
      "1176 [0.8952804]\n",
      "1177 [0.74404836]\n",
      "1178 [0.8832649]\n",
      "1179 [0.8801099]\n",
      "1180 [0.7743561]\n",
      "1181 [0.8192027]\n",
      "1182 [0.81540847]\n",
      "1183 [0.7395446]\n",
      "1184 [0.85296166]\n",
      "1185 [0.874578]\n",
      "1186 [0.7374685]\n",
      "1187 [0.8377705]\n",
      "1188 [0.79201007]\n",
      "1189 [0.73965883]\n",
      "1190 [0.825945]\n",
      "1191 [0.87495095]\n",
      "1192 [0.7385601]\n",
      "1193 [0.8624834]\n",
      "1194 [0.8149367]\n",
      "1195 [0.7447934]\n",
      "1196 [0.8591886]\n",
      "1197 [0.8847909]\n",
      "1198 [0.74601096]\n",
      "1199 [0.8158169]\n",
      "1200 [0.81744844]\n",
      "1201 [0.7696169]\n",
      "1202 [0.8641377]\n",
      "1203 [0.90878975]\n",
      "1204 [0.8002038]\n",
      "1205 [0.85443544]\n",
      "1206 [0.8925403]\n",
      "1207 [0.7662873]\n",
      "1208 [0.8738456]\n",
      "1209 [0.9276016]\n",
      "1210 [0.7695368]\n",
      "1211 [0.83551896]\n",
      "1212 [0.83279145]\n",
      "1213 [0.77420527]\n",
      "1214 [0.89484096]\n",
      "1215 [0.9292892]\n",
      "1216 [0.77313143]\n",
      "1217 [0.8330861]\n",
      "1218 [0.8438752]\n",
      "1219 [0.76194495]\n",
      "1220 [0.917306]\n",
      "1221 [0.9522512]\n",
      "1222 [0.7919882]\n",
      "1223 [0.59831214]\n",
      "1224 [0.81618416]\n",
      "1225 [0.9299989]\n",
      "1226 [0.8364759]\n",
      "1227 [0.87471205]\n",
      "1228 [0.9328908]\n",
      "1229 [0.8276787]\n",
      "1230 [0.95937455]\n",
      "1231 [0.9528265]\n",
      "1232 [0.88708377]\n",
      "1233 [0.9433924]\n",
      "1234 [0.9576849]\n",
      "1235 [0.85228527]\n",
      "1236 [0.9983798]\n",
      "1237 [0.9277499]\n",
      "1238 [0.9169262]\n",
      "1239 [0.9330964]\n",
      "1240 [0.97249275]\n",
      "1241 [0.9260354]\n",
      "1242 [1.0171223]\n",
      "1243 [0.9940337]\n",
      "1244 [0.957052]\n",
      "1245 [0.9580666]\n",
      "1246 [0.9558921]\n",
      "1247 [0.9351962]\n",
      "1248 [1.0035393]\n",
      "1249 [1.0225682]\n",
      "1250 [0.9320885]\n",
      "1251 [0.95848894]\n",
      "1252 [0.9857373]\n",
      "1253 [0.9389177]\n",
      "1254 [1.0338022]\n",
      "1255 [1.014126]\n",
      "1256 [0.9417975]\n",
      "1257 [0.99233615]\n",
      "1258 [1.0017389]\n",
      "1259 [0.9178555]\n",
      "1260 [1.0473477]\n",
      "1261 [1.0490685]\n",
      "1262 [0.98183125]\n",
      "1263 [0.98384625]\n",
      "1264 [0.98469627]\n",
      "1265 [0.954926]\n",
      "1266 [1.051339]\n",
      "1267 [1.0513518]\n",
      "1268 [0.9652604]\n",
      "1269 [1.0140772]\n",
      "1270 [0.99336255]\n",
      "1271 [0.9526734]\n",
      "1272 [1.0579736]\n",
      "1273 [1.0631123]\n",
      "1274 [0.9653126]\n",
      "1275 [1.0160801]\n",
      "1276 [0.992315]\n",
      "1277 [0.9679893]\n",
      "1278 [1.0323298]\n",
      "1279 [1.0642686]\n",
      "1280 [0.9460046]\n",
      "1281 [0.9862131]\n",
      "1282 [1.0167499]\n",
      "1283 [0.96427405]\n",
      "1284 [1.0359724]\n",
      "1285 [1.0658023]\n",
      "1286 [0.9705677]\n",
      "1287 [0.99869084]\n",
      "1288 [1.0243119]\n",
      "1289 [0.9558185]\n",
      "1290 [1.035768]\n",
      "1291 [1.0658815]\n",
      "1292 [0.97224706]\n",
      "1293 [1.0266405]\n",
      "1294 [1.0096885]\n",
      "1295 [0.95162904]\n",
      "1296 [1.0466638]\n",
      "1297 [1.0751451]\n",
      "1298 [0.9520775]\n",
      "1299 [0.99628705]\n",
      "1300 [1.0066415]\n",
      "1301 [0.9816272]\n",
      "1302 [1.0727329]\n",
      "1303 [1.0683006]\n",
      "1304 [0.93793035]\n",
      "1305 [1.0339108]\n",
      "1306 [1.0224743]\n",
      "1307 [0.96073496]\n",
      "1308 [1.0777841]\n",
      "1309 [1.1047364]\n",
      "1310 [0.9497345]\n",
      "1311 [1.025242]\n",
      "1312 [1.03146]\n",
      "1313 [0.99526393]\n",
      "1314 [1.0459563]\n",
      "1315 [1.0765816]\n",
      "1316 [0.91161656]\n",
      "1317 [1.03739]\n",
      "1318 [0.9943642]\n",
      "1319 [0.9650787]\n",
      "1320 [1.0669628]\n",
      "1321 [1.1094682]\n",
      "1322 [0.9297429]\n",
      "1323 [1.0001503]\n",
      "1324 [1.0517149]\n",
      "1325 [0.9972925]\n",
      "1326 [1.0826375]\n",
      "1327 [1.1231356]\n",
      "1328 [0.970467]\n",
      "1329 [1.0646325]\n",
      "1330 [1.0551121]\n",
      "1331 [0.9136008]\n",
      "1332 [1.1053884]\n",
      "1333 [1.1240969]\n",
      "1334 [0.9683174]\n",
      "1335 [1.0760127]\n",
      "1336 [1.0554659]\n",
      "1337 [1.0304275]\n",
      "1338 [1.1098508]\n",
      "1339 [1.1305516]\n",
      "1340 [1.0198387]\n",
      "1341 [1.0903373]\n",
      "1342 [1.1078416]\n",
      "1343 [1.0146834]\n",
      "1344 [1.1149824]\n",
      "1345 [1.1579983]\n",
      "1346 [0.969152]\n",
      "1347 [1.0929183]\n",
      "1348 [1.0789074]\n",
      "1349 [1.042995]\n",
      "1350 [1.1149441]\n",
      "1351 [1.137816]\n",
      "1352 [0.9999655]\n",
      "1353 [1.0874197]\n",
      "1354 [1.074234]\n",
      "1355 [1.0185833]\n",
      "1356 [1.1062912]\n",
      "1357 [1.1573391]\n",
      "1358 [0.97138745]\n",
      "1359 [1.0648797]\n",
      "1360 [1.0424335]\n",
      "1361 [1.0337813]\n",
      "1362 [1.111362]\n",
      "1363 [1.1329345]\n",
      "1364 [1.0543293]\n",
      "1365 [1.0828054]\n",
      "1366 [1.0960627]\n",
      "1367 [1.0293992]\n",
      "1368 [1.1282685]\n",
      "1369 [1.1801734]\n",
      "1370 [1.0176611]\n",
      "1371 [1.0432394]\n",
      "1372 [1.0696689]\n",
      "1373 [0.9630469]\n",
      "1374 [1.0348866]\n",
      "1375 [1.102788]\n",
      "1376 [0.9656686]\n",
      "1377 [1.0066829]\n",
      "1378 [1.0492603]\n",
      "1379 [0.90771437]\n",
      "1380 [1.0783954]\n",
      "1381 [1.0466244]\n",
      "1382 [0.9612585]\n",
      "1383 [1.0130167]\n",
      "1384 [1.0545237]\n",
      "1385 [0.96538126]\n",
      "1386 [1.1226878]\n",
      "1387 [1.1131217]\n",
      "1388 [1.0219363]\n",
      "1389 [1.094666]\n",
      "1390 [1.0849571]\n",
      "1391 [0.9347944]\n",
      "1392 [1.1308562]\n",
      "1393 [1.180116]\n",
      "1394 [1.0127351]\n",
      "1395 [1.0575867]\n",
      "1396 [1.1217824]\n",
      "1397 [0.9700376]\n",
      "1398 [1.1463553]\n",
      "1399 [1.152187]\n",
      "1400 [1.0715504]\n",
      "1401 [1.1027571]\n",
      "1402 [1.1476231]\n",
      "1403 [0.98563373]\n",
      "1404 [1.082792]\n",
      "1405 [1.1518302]\n",
      "1406 [1.0338665]\n",
      "1407 [1.0540872]\n",
      "1408 [1.0961694]\n",
      "1409 [1.02245]\n",
      "1410 [1.1566075]\n",
      "1411 [1.1500244]\n",
      "1412 [1.055187]\n",
      "1413 [1.0711601]\n",
      "1414 [1.1578202]\n",
      "1415 [1.0132961]\n",
      "1416 [1.1550791]\n",
      "1417 [1.2146599]\n",
      "1418 [1.1038421]\n",
      "1419 [1.1427321]\n",
      "1420 [1.1586659]\n",
      "1421 [0.9873205]\n",
      "1422 [1.1231447]\n",
      "1423 [1.1893072]\n",
      "1424 [1.0398067]\n",
      "1425 [1.1551509]\n",
      "1426 [1.1684241]\n",
      "1427 [1.0425336]\n",
      "1428 [1.1892172]\n",
      "1429 [1.2414567]\n",
      "1430 [1.051151]\n",
      "1431 [1.1180496]\n",
      "1432 [1.1459421]\n",
      "1433 [1.0350089]\n"
     ]
    }
   ],
   "source": [
    "s = 1\n",
    "TMP_TS_cycle = all_cycles[0:len(Y_train_TMP0)+s]\n",
    "TMP_TS_all = list(np.concatenate(all_cycles[0:len(Y_train_TMP0)+s]))\n",
    "x_cf = X_test_TMP0_s[s,l_cf]\n",
    "x_df = X_test_TMP0_s[s,l_df]\n",
    "x_tsf = X_test_TMP0_s[s,l_tsf] \n",
    "flt = np.array([X_test_TMP0_s[s,-2]]) \n",
    "x_last_tmp = np.array([X_test_TMP0_s[s,-1] ])\n",
    "X_model1 = np.expand_dims(np.concatenate((x_cf,x_df,x_tsf,flt,x_last_tmp)),axis=0)\n",
    "tmp_test_results = []\n",
    "x_tsf_results = []\n",
    "for i in range(s,len(X_test_TMP0_s)):\n",
    "  initial_TMP = model_TMPD.predict(X_model1)\n",
    "  #update features for model 2\n",
    "  x_cf = X_test_TMP_all_s[i,l_cf]       #scaled\n",
    "  tmp0 = np.squeeze(initial_TMP,axis=1)                    #scaled\n",
    "  print(i,tmp0)\n",
    "  #construct input for model2\n",
    "  X_model2 = np.concatenate((x_cf,x_df,x_tsf,tmp0))\n",
    "\n",
    "  tmp_all = model_TMPI([np.expand_dims(X_model2[0:-1],axis=0),\n",
    "                   np.expand_dims(np.array([X_model2[-1]]),axis=0),len(Y_test_TMP_all_s[i])],training=False)\n",
    "\n",
    "  tmp_cycle_s = inverse_standardize(np.squeeze(tmp_all.numpy()), mean_y,std_y)\n",
    "  tmp0_i = y_scaler1.inverse_transform(tmp0.reshape(1, -1))\n",
    "  #concat model1 & model2 outputs\n",
    "  # try:\n",
    "    # tmp_cycle_s = np.concatenate((tmp0,np.squeeze(tmp_all.numpy())))\n",
    "  tmp_cycle = np.concatenate((np.squeeze(tmp0_i,axis=0),np.array(tmp_cycle_s)))\n",
    "  # except:\n",
    "  # tmp_cycle = np.concatenate((tmp0_i,(np.squeeze(tmp_cycle_s,axis=(0,-1)))))\n",
    "  #inverse scale\n",
    "  # tmp_cycle = inverse_standardize(tmp_cycle_s, mean_y,std_y)\n",
    "  tmp_test_results.append(tmp_cycle)\n",
    "  #compute new features\n",
    "  TMP_TS_cycle.append(np.array(tmp_cycle))\n",
    "  TMP_TS_all.extend(tmp_cycle)\n",
    "  x_cf = X_test_TMP_all.iloc[i,l_cf].values\n",
    "  x_df = find_domain_features(TMP_TS_cycle)       #not scaled\n",
    "  x_tsf = find_ts_features(np.array(TMP_TS_all))  #not scaled\n",
    "  # x_tsf = np.array([x_tsf])\n",
    "  flt = np.array([len(tmp_all)+1])                  #not scaled\n",
    "  x_last_tmp = np.array([tmp_cycle[-1]])\n",
    "  x_tsf_results.append(x_tsf)\n",
    "  #scale\n",
    "  X_scaled = x_scaler1.transform(np.concatenate((x_cf,x_df,x_tsf,flt,x_last_tmp)).reshape(1, -1))\n",
    "  x_df = X_scaled[0,l_df]\n",
    "  x_tsf = X_scaled[0,l_tsf]\n",
    "  X_model1 = X_scaled\n"
   ]
  },
  {
   "cell_type": "code",
   "execution_count": 63,
   "metadata": {
    "colab": {
     "base_uri": "https://localhost:8080/"
    },
    "id": "_NFl4tXxy6BG",
    "outputId": "bcf32836-e5d2-4a84-b02e-5fdde343a44d"
   },
   "outputs": [
    {
     "name": "stdout",
     "output_type": "stream",
     "text": [
      "RMSE:  0.33198446888034705\n",
      "MSE:  0.1102136875777661\n",
      "MAE:  0.25985279376288173\n",
      "EVC:  0.776711691097922\n",
      "R2:  0.7006264500120205\n"
     ]
    }
   ],
   "source": [
    "evaluate(np.concatenate(all_cycles[len(Y_train_TMP0)+s+1:len(Y_train_TMP0)+s+1+len(tmp_test_results)]),np.concatenate(tmp_test_results))\n",
    "# evaluate(np.concatenate(Y_test_TMP_all[0:100]),np.concatenate(tmp_test_results))"
   ]
  },
  {
   "cell_type": "code",
   "execution_count": 64,
   "metadata": {
    "colab": {
     "base_uri": "https://localhost:8080/",
     "height": 297
    },
    "id": "bUAGq7EVxT64",
    "outputId": "caf05da6-a236-4121-dc9c-012ba31f6c87"
   },
   "outputs": [
    {
     "data": {
      "text/plain": [
       "<matplotlib.legend.Legend at 0x1e0648ad730>"
      ]
     },
     "execution_count": 64,
     "metadata": {},
     "output_type": "execute_result"
    },
    {
     "data": {
      "image/png": "[encoded data removed]",
      "text/plain": [
       "<Figure size 432x288 with 1 Axes>"
      ]
     },
     "metadata": {
      "needs_background": "light"
     },
     "output_type": "display_data"
    }
   ],
   "source": [
    "plt.plot([y[-1] for y in all_cycles[len(Y_train_TMP0)+s:len(Y_train_TMP0)+s+len(tmp_test_results)]],label='True')\n",
    "plt.plot([y[-1] for y in tmp_test_results],label='Prediction')\n",
    "plt.ylabel('last TMP value')\n",
    "plt.xlabel('#cycle')\n",
    "plt.legend()"
   ]
  },
  {
   "cell_type": "code",
   "execution_count": 65,
   "metadata": {},
   "outputs": [],
   "source": [
    "last_tmp_true = np.array([y[-1] for y in all_cycles[len(Y_train_TMP0)+1+s:len(Y_train_TMP0)+s+1+len(tmp_test_results)]])\n",
    "last_tmp_pred = np.array([y[-1] for y in tmp_test_results])\n",
    "initial_tmp_true = np.array([y[0] for y in all_cycles[len(Y_train_TMP0)+1+s:len(Y_train_TMP0)+s+1+len(tmp_test_results)]])\n",
    "initial_tmp_pred = np.array([y[0] for y in tmp_test_results])"
   ]
  },
  {
   "cell_type": "code",
   "execution_count": 66,
   "metadata": {},
   "outputs": [],
   "source": [
    "x = np.array(range(0,len(last_tmp_true)))\n",
    "y = last_tmp_true\n",
    "m, b = np.polyfit(x, y, 1)\n",
    "y2 = last_tmp_pred\n",
    "m2, b2 = np.polyfit(x, y2, 1)"
   ]
  },
  {
   "cell_type": "code",
   "execution_count": 67,
   "metadata": {},
   "outputs": [],
   "source": [
    "x = np.array(range(0,len(last_tmp_true)))\n",
    "y_i = initial_tmp_true\n",
    "m_i, b_i = np.polyfit(x, y_i, 1)\n",
    "y2_i = initial_tmp_pred\n",
    "m2_i, b2_i = np.polyfit(x, y2_i, 1)"
   ]
  },
  {
   "cell_type": "code",
   "execution_count": 68,
   "metadata": {},
   "outputs": [
    {
     "data": {
      "text/plain": [
       "0.03156094989394649"
      ]
     },
     "execution_count": 68,
     "metadata": {},
     "output_type": "execute_result"
    }
   ],
   "source": [
    "mean_squared_error(m*x + b,m2*x + b2,squared=True)"
   ]
  },
  {
   "cell_type": "code",
   "execution_count": 69,
   "metadata": {},
   "outputs": [
    {
     "data": {
      "text/plain": [
       "0.017034877463271352"
      ]
     },
     "execution_count": 69,
     "metadata": {},
     "output_type": "execute_result"
    }
   ],
   "source": [
    "mean_squared_error(m_i*x + b_i,m2_i*x + b2_i,squared=True)"
   ]
  },
  {
   "cell_type": "code",
   "execution_count": 70,
   "metadata": {},
   "outputs": [
    {
     "data": {
      "text/plain": [
       "<matplotlib.legend.Legend at 0x1e0627fde50>"
      ]
     },
     "execution_count": 70,
     "metadata": {},
     "output_type": "execute_result"
    },
    {
     "data": {
      "image/png": "[encoded data removed]",
      "text/plain": [
       "<Figure size 1152x216 with 2 Axes>"
      ]
     },
     "metadata": {
      "needs_background": "light"
     },
     "output_type": "display_data"
    }
   ],
   "source": [
    "# index = (np.random.rand(12)*len(Y_test_TMP_all)).astype(int)\n",
    "# index = np.sort(index)\n",
    "i = 0\n",
    "fig, ax = plt.subplots(1,2,figsize=(16,3))\n",
    "ax[0].plot(initial_tmp_true,'-',label='Actual')\n",
    "ax[0].plot(initial_tmp_pred,'-',label='Prediction')\n",
    "ax[0].set_xlabel('Cycle')\n",
    "ax[0].set_ylabel('TMP')\n",
    "ax[0].plot(x, m_i*x + b_i,'k-',label='True best fit line',linewidth=3.0)\n",
    "ax[0].plot(x, m2_i*x + b2_i,'r-',label='Prediction best fit line',linewidth=3.0)\n",
    "ax[0].set_title('Initial TMP value of the cycle')\n",
    "ax[0].legend()\n",
    "\n",
    "ax[1].plot(last_tmp_true,'-',label='Actual')\n",
    "ax[1].plot(last_tmp_pred,'-',label='Prediction')\n",
    "ax[1].set_xlabel('Cycle')\n",
    "ax[1].set_ylabel('TMP')\n",
    "ax[1].plot(x, m*x + b,'k-',label='True best fit line',linewidth=3.0)\n",
    "ax[1].plot(x, m2*x + b2,'r-',label='Prediction best fit line',linewidth=3.0)\n",
    "ax[1].set_title('Last TMP value of the cycle')\n",
    "ax[1].legend()"
   ]
  },
  {
   "cell_type": "code",
   "execution_count": 71,
   "metadata": {},
   "outputs": [
    {
     "data": {
      "text/plain": [
       "Text(0.5, 0, 'Cycle duration (2 min)')"
      ]
     },
     "execution_count": 71,
     "metadata": {},
     "output_type": "execute_result"
    },
    {
     "data": {
      "image/png": "[encoded data removed]",
      "text/plain": [
       "<Figure size 1152x216 with 5 Axes>"
      ]
     },
     "metadata": {
      "needs_background": "light"
     },
     "output_type": "display_data"
    }
   ],
   "source": [
    "index = np.array([107, 915, 1307, 1358, 1169])\n",
    "\n",
    "i = 0\n",
    "fig, ax = plt.subplots(1,5,figsize=(16,3))\n",
    "for a in ax:\n",
    "#     for aa in a:\n",
    "        n = index[i]\n",
    "        x = all_cycles[len(Y_train_TMP0)+n+1+s]\n",
    "        a.plot(x,'o-',label='Actual')\n",
    "        a.plot(tmp_test_results[n],'o-',label='Prediction')\n",
    "        a.legend()\n",
    "        a.set_title('MSE: %.3f'%(np.round(mean_squared_error(x,tmp_test_results[n][0:len(x)],squared=True),decimals=3)))\n",
    "        i += 1\n",
    "ax[0].set_ylabel('TMP') \n",
    "ax[2].set_xlabel('Cycle duration (2 min)')  "
   ]
  },
  {
   "cell_type": "code",
   "execution_count": 72,
   "metadata": {
    "colab": {
     "base_uri": "https://localhost:8080/",
     "height": 607
    },
    "id": "TwqNKVqD0fdQ",
    "outputId": "e45a46bc-7487-49fc-c7a4-0a3ff982b56f",
    "scrolled": false
   },
   "outputs": [
    {
     "data": {
      "image/png": "[encoded data removed]",
      "text/plain": [
       "<Figure size 1152x720 with 12 Axes>"
      ]
     },
     "metadata": {
      "needs_background": "light"
     },
     "output_type": "display_data"
    }
   ],
   "source": [
    "index = (np.random.rand(12)*len(tmp_test_results)).astype(int)\n",
    "index = np.sort(index)\n",
    "i = 0\n",
    "fig, ax = plt.subplots(3,4,figsize=(16,10))\n",
    "for a in ax:\n",
    "    for aa in a:\n",
    "        n = index[i]\n",
    "        x = all_cycles[len(Y_train_TMP0)+n+1+s]\n",
    "        aa.plot(x,'o-',label='True')\n",
    "        # aa.plot(tmp_test_results_i[n],'o-',label='Prediction')\n",
    "        # x = range(len(Y_test_TMP_all[n]),len(p))\n",
    "        aa.plot(tmp_test_results[n],'o-',label='Prediction')\n",
    "        aa.legend()\n",
    "        aa.set_title('Sample %d, MSE: %.3f'%(n,np.round(mean_squared_error(x,tmp_test_results[n][0:len(x)],squared=True),decimals=3)))\n",
    "        i += 1"
   ]
  }
 ],
 "metadata": {
  "accelerator": "GPU",
  "colab": {
   "collapsed_sections": [
    "OX8lLglqo2pN"
   ],
   "name": "Autoregresive_full_Model.ipynb",
   "provenance": []
  },
  "kernelspec": {
   "display_name": "Python 3",
   "language": "python",
   "name": "python3"
  },
  "language_info": {
   "codemirror_mode": {
    "name": "ipython",
    "version": 3
   },
   "file_extension": ".py",
   "mimetype": "text/x-python",
   "name": "python",
   "nbconvert_exporter": "python",
   "pygments_lexer": "ipython3",
   "version": "3.8.3"
  }
 },
 "nbformat": 4,
 "nbformat_minor": 1
}
